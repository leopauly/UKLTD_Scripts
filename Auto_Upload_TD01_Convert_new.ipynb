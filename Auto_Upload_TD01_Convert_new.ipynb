{
 "cells": [
  {
   "cell_type": "markdown",
   "metadata": {},
   "source": [
    "#### Description"
   ]
  },
  {
   "cell_type": "code",
   "execution_count": 1,
   "metadata": {},
   "outputs": [
    {
     "name": "stdout",
     "output_type": "stream",
     "text": [
      "Author:  Leo Pauly (cnlp@leeds.ac.uk) & Nick Wilson (n.wilson@lubs.leeds.ac.uk)\n",
      "Description: Autmatic database update: Conversion\n"
     ]
    }
   ],
   "source": [
    "print('Author:  Leo Pauly (cnlp@leeds.ac.uk) & Nick Wilson (n.wilson@lubs.leeds.ac.uk)')\n",
    "print('Description: Autmatic database update: Conversion')"
   ]
  },
  {
   "cell_type": "markdown",
   "metadata": {},
   "source": [
    "#### Usage intructions & Other info"
   ]
  },
  {
   "cell_type": "markdown",
   "metadata": {},
   "source": [
    "1. Change/Add User (user variable options: 'leo','nick')\n",
    "2. Change file_formate variable (options: '.sav','.csv')\n",
    "3. Prefefably install python using anacodna (all in one installation): https://www.anaconda.com/products/individual#windows\n",
    "4. Run this if 'pyarrow' module is missing':  !pip install pyarrow \n",
    "5. Converted database are stored in the directory : UKLTD_Database "
   ]
  },
  {
   "cell_type": "markdown",
   "metadata": {},
   "source": [
    "#### Imports"
   ]
  },
  {
   "cell_type": "code",
   "execution_count": 2,
   "metadata": {},
   "outputs": [
    {
     "name": "stdout",
     "output_type": "stream",
     "text": [
      "Python version: 3.8.5 (default, Sep  3 2020, 21:29:08) [MSC v.1916 64 bit (AMD64)]\n",
      "No: of logical CPU cores available: 8\n"
     ]
    }
   ],
   "source": [
    "import os\n",
    "import sys\n",
    "import pandas as pd\n",
    "import numpy as np\n",
    "import pyreadstat\n",
    "from zipfile import ZipFile\n",
    "import pyunpack\n",
    "import multiprocessing\n",
    "import dask.dataframe as dd\n",
    "import time\n",
    "import dask\n",
    "from dask.diagnostics import ProgressBar\n",
    "from dask.distributed import Client\n",
    "dask.config.set(scheduler='threads')\n",
    "import gc\n",
    "\n",
    "print('Python version:',sys.version)\n",
    "num_processes = multiprocessing.cpu_count()\n",
    "print('No: of logical CPU cores available:',num_processes)"
   ]
  },
  {
   "cell_type": "code",
   "execution_count": 3,
   "metadata": {},
   "outputs": [],
   "source": [
    "## Selectting file format\n",
    "file_format='sav' #(options: csv,sav)\n",
    "\n",
    "## Selectting user\n",
    "user='leo' #(user variable options: 'leo','nick')\n",
    "\n",
    "## Adding filepaths\n",
    "if(user=='leo'):\n",
    "    base_dir='C:/Users/cnlp/Research Fellowship/'\n",
    "elif(user=='nick'):\n",
    "    base_dir='/Volumes/Pegasus32 R6/CreditSafe 2019 Zipped/'\n",
    "\n",
    "os.makedirs(base_dir+'UKLTD_Database', exist_ok=True)\n",
    "dir_list_file=base_dir+'/UKLTD_Scripts/dir_list.txt'\n",
    "database_file_folder=base_dir+'UKLTD_Database/TD01/'\n",
    "conv_database_file_folder=base_dir+'UKLTD_Database/TD01_convert/'\n",
    "\n",
    "os.makedirs(conv_database_file_folder, exist_ok=True)\n",
    "if (file_format=='csv'): \n",
    "    conv_database_file=conv_database_file_folder+'TD01.csv'\n",
    "elif (file_format=='sav'): \n",
    "    conv_database_file=conv_database_file_folder+'TD01.sav'\n",
    "else:\n",
    "    print('File format not supported')"
   ]
  },
  {
   "cell_type": "markdown",
   "metadata": {},
   "source": [
    "#### Loading database "
   ]
  },
  {
   "cell_type": "code",
   "execution_count": 4,
   "metadata": {},
   "outputs": [
    {
     "name": "stdout",
     "output_type": "stream",
     "text": [
      "Database found. Reading database! \n",
      "\n",
      "Time taken to read database C:/Users/cnlp/Research Fellowship/UKLTD_Database/TD01/: 0.078125 s\n",
      "No: of partitions in the database: 4\n"
     ]
    }
   ],
   "source": [
    "## If databse is in .csv format \n",
    "if (os.path.exists(database_file_folder)):\n",
    "    print('Database found.','Reading database! \\n') \n",
    "    start = time.process_time()\n",
    "    with ProgressBar():\n",
    "        df_database = dd.read_parquet(database_file_folder) \n",
    "    print('Time taken to read database {}:'.format(database_file_folder),time.process_time() - start,'s')\n",
    "    database_missing=False\n",
    "else:\n",
    "    print('Database missing.  \\n')\n",
    "    exit()\n",
    "    \n",
    "print('No: of partitions in the database:',df_database.npartitions)"
   ]
  },
  {
   "cell_type": "markdown",
   "metadata": {},
   "source": [
    "#### Converting and writing into disk"
   ]
  },
  {
   "cell_type": "code",
   "execution_count": 5,
   "metadata": {},
   "outputs": [
    {
     "name": "stdout",
     "output_type": "stream",
     "text": [
      "[########################################] | 100% Completed |  0.7s\n",
      "Saved file path: C:/Users/cnlp/Research Fellowship/UKLTD_Database/TD01_convert/TD01.sav\n",
      "Time taken to write: 8.046875 s\n"
     ]
    }
   ],
   "source": [
    "## Writing converted databse to file\n",
    "import os\n",
    "if os.path.exists(conv_database_file):\n",
    "    os.remove(conv_database_file)\n",
    "if (file_format=='csv'):\n",
    "    start = time.process_time()\n",
    "    with ProgressBar():\n",
    "        df_database.to_csv(conv_database_file,single_file=True)\n",
    "    print('Time taken to write:',time.process_time() - start,'s')\n",
    "elif (file_format=='sav'):\n",
    "    start = time.process_time()\n",
    "    with ProgressBar():\n",
    "        pyreadstat.write_sav(df_database.compute(),conv_database_file,compress=False)\n",
    "    print('Saved file path:',conv_database_file)\n",
    "    print('Time taken to write:',time.process_time() - start,'s')"
   ]
  }
 ],
 "metadata": {
  "kernelspec": {
   "display_name": "Python 3",
   "language": "python",
   "name": "python3"
  },
  "language_info": {
   "codemirror_mode": {
    "name": "ipython",
    "version": 3
   },
   "file_extension": ".py",
   "mimetype": "text/x-python",
   "name": "python",
   "nbconvert_exporter": "python",
   "pygments_lexer": "ipython3",
   "version": "3.8.5"
  }
 },
 "nbformat": 4,
 "nbformat_minor": 4
}
