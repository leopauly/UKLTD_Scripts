{
 "cells": [
  {
   "cell_type": "markdown",
   "metadata": {},
   "source": [
    "#### Description"
   ]
  },
  {
   "cell_type": "code",
   "execution_count": 1,
   "metadata": {},
   "outputs": [
    {
     "name": "stdout",
     "output_type": "stream",
     "text": [
      "Author:  Leo Pauly (cnlp@leeds.ac.uk) & Nick Wilson (n.wilson@lubs.leeds.ac.uk)\n",
      "Description: Autmatic database update\n"
     ]
    }
   ],
   "source": [
    "print('Author:  Leo Pauly (cnlp@leeds.ac.uk) & Nick Wilson (n.wilson@lubs.leeds.ac.uk)')\n",
    "print('Description: Autmatic database update')"
   ]
  },
  {
   "cell_type": "markdown",
   "metadata": {},
   "source": [
    "#### Usage intructions & Other info"
   ]
  },
  {
   "cell_type": "markdown",
   "metadata": {},
   "source": [
    "1. Give absolute file paths always\n",
    "2. Assumed that new entry directory names always start with UKLTD_R_ or UKLTD_W_\n",
    "3. dir_list.txt file contains the processed directory list\n",
    "4. Prefefably install python using anacodna (all in one installation): https://www.anaconda.com/products/individual#windows\n",
    "5. Run this if 'pyreadstat module is missing':  !pip install pyreadstat \n",
    "6. Need only change base directory in most of the case\n",
    "7. Databases are stored in the directory: UKLTD_Database "
   ]
  },
  {
   "cell_type": "code",
   "execution_count": 4,
   "metadata": {},
   "outputs": [
    {
     "name": "stdout",
     "output_type": "stream",
     "text": [
      "Collecting pyreadstat\n",
      "  Downloading pyreadstat-1.0.8-cp37-cp37m-macosx_10_9_x86_64.whl (551 kB)\n",
      "\u001b[K     |████████████████████████████████| 551 kB 10.4 MB/s eta 0:00:01\n",
      "\u001b[?25hRequirement already satisfied: pandas>0.24.0 in /Users/nicholaswilson/opt/anaconda3/lib/python3.7/site-packages (from pyreadstat) (1.0.1)\n",
      "Requirement already satisfied: numpy>=1.13.3 in /Users/nicholaswilson/opt/anaconda3/lib/python3.7/site-packages (from pandas>0.24.0->pyreadstat) (1.18.1)\n",
      "Requirement already satisfied: python-dateutil>=2.6.1 in /Users/nicholaswilson/opt/anaconda3/lib/python3.7/site-packages (from pandas>0.24.0->pyreadstat) (2.8.1)\n",
      "Requirement already satisfied: pytz>=2017.2 in /Users/nicholaswilson/opt/anaconda3/lib/python3.7/site-packages (from pandas>0.24.0->pyreadstat) (2019.3)\n",
      "Requirement already satisfied: six>=1.5 in /Users/nicholaswilson/opt/anaconda3/lib/python3.7/site-packages (from python-dateutil>=2.6.1->pandas>0.24.0->pyreadstat) (1.14.0)\n",
      "Installing collected packages: pyreadstat\n",
      "Successfully installed pyreadstat-1.0.8\n"
     ]
    }
   ],
   "source": [
    "!pip install pyreadstat\n"
   ]
  },
  {
   "cell_type": "markdown",
   "metadata": {},
   "source": [
    "#### Imports"
   ]
  },
  {
   "cell_type": "code",
   "execution_count": 5,
   "metadata": {},
   "outputs": [
    {
     "name": "stdout",
     "output_type": "stream",
     "text": [
      "python version 3.7.6 (default, Jan  8 2020, 13:42:34) \n",
      "[Clang 4.0.1 (tags/RELEASE_401/final)]\n"
     ]
    }
   ],
   "source": [
    "import os\n",
    "import sys\n",
    "print('python version',sys.version)\n",
    "import pandas as pd\n",
    "import numpy as np\n",
    "import pyreadstat\n",
    "AC01_header=['AC01', 'REGNUM', 'ACCDAT_start', 'ACCDAT', 'number_of_weeks', 'months',\n",
    "       'currency', 'consolidated', 'acctype', 'Turnover', 'Export',\n",
    "       'Cost_of_Sales', 'Gross_Profit', 'Wages_Salaries',\n",
    "       'Directors_Emoluments', 'Operating_Profits', 'Depreciation',\n",
    "       'Audit_Fees', 'Interest_Payments', 'Pre_Tax_Profit', 'taxation1',\n",
    "       'Profit_After_Tax', 'Dividends_Payable', 'Retained_Profits',\n",
    "       'Tangible_Assets', 'Intangible_Assets', 'Total_Fixed_Assets',\n",
    "       'Total_Current_Assets', 'Trade_Debtors', 'Stock', 'Cash',\n",
    "       'Other_Current_Assets', 'Increase_In_Cash', 'Mis_Current_Assets',\n",
    "       'Total_Assets', 'Total_Current_Liabilities', 'Trade_Creditors',\n",
    "       'Bank_Overdraft', 'Other_Short_Term_Fin', 'Mis_Current_Liabilities',\n",
    "       'Other_Long_Term_Fin', 'Total_Long_Term_Liabilities',\n",
    "       'Bank_Overdraft_LTL', 'Total_Liabilities', 'Net_Assets',\n",
    "       'Working_Capital', 'Paid_up_equity', 'PL_Account_Weserve',\n",
    "       'Sundry_Weserves', 'Revaluation_Weserve', 'Shareholder_Funds',\n",
    "       'NetWorth', 'NetCashflowfromOperations', 'NetCashflowbeforeFinancing',\n",
    "       'NetCashflowfromFinancing', 'Contingent_Liability', 'Capital_Employed',\n",
    "       'No_Employees', 'status', 'UPLOAD']"
   ]
  },
  {
   "cell_type": "markdown",
   "metadata": {},
   "source": [
    "#### Checking new entries"
   ]
  },
  {
   "cell_type": "code",
   "execution_count": 10,
   "metadata": {},
   "outputs": [
    {
     "name": "stdout",
     "output_type": "stream",
     "text": [
      "List of processed directores:\n",
      "\n",
      "\n",
      "New entries detected:\n",
      "UKLTD_R_20190607\n",
      "UKLTD_W_20190602\n",
      "UKLTD_W_20190609\n",
      "UKLTD_W_20190616\n"
     ]
    }
   ],
   "source": [
    "## Checking for new download\n",
    "with open(r'/Volumes/Pegasus32 R6/CreditSafe 2019 Zipped/UKLTD_Scripts/dir_list.txt', 'a+') as fd:\n",
    "    fd.seek(0)\n",
    "    dir_list_old=fd.read().split('\\n')\n",
    "   \n",
    "print('List of processed directores:',*dir_list_old,sep='\\n')\n",
    "dir_list_new=[dir_name for dir_name in os.listdir('/Volumes/Pegasus32 R6/CreditSafe 2019 Zipped') if (dir_name.startswith(\"UKLTD_W\") or dir_name.startswith(\"UKLTD_R\"))]\n",
    "#print (*dir_list_new,sep='\\n')\n",
    "entry_dir_list=[entry_dir for entry_dir in dir_list_new if entry_dir not in dir_list_old ]\n",
    "print('\\nNew entries detected:',*entry_dir_list,sep='\\n')"
   ]
  },
  {
   "cell_type": "markdown",
   "metadata": {},
   "source": [
    "#### Creating/Loading database "
   ]
  },
  {
   "cell_type": "code",
   "execution_count": 12,
   "metadata": {},
   "outputs": [
    {
     "name": "stdout",
     "output_type": "stream",
     "text": [
      "Database not found. Creating database: \n",
      "\n"
     ]
    },
    {
     "data": {
      "text/html": [
       "<div>\n",
       "<style scoped>\n",
       "    .dataframe tbody tr th:only-of-type {\n",
       "        vertical-align: middle;\n",
       "    }\n",
       "\n",
       "    .dataframe tbody tr th {\n",
       "        vertical-align: top;\n",
       "    }\n",
       "\n",
       "    .dataframe thead th {\n",
       "        text-align: right;\n",
       "    }\n",
       "</style>\n",
       "<table border=\"1\" class=\"dataframe\">\n",
       "  <thead>\n",
       "    <tr style=\"text-align: right;\">\n",
       "      <th></th>\n",
       "      <th>AC01</th>\n",
       "      <th>REGNUM</th>\n",
       "      <th>ACCDAT_start</th>\n",
       "      <th>ACCDAT</th>\n",
       "      <th>number_of_weeks</th>\n",
       "      <th>months</th>\n",
       "      <th>currency</th>\n",
       "      <th>consolidated</th>\n",
       "      <th>acctype</th>\n",
       "      <th>Turnover</th>\n",
       "      <th>...</th>\n",
       "      <th>Shareholder_Funds</th>\n",
       "      <th>NetWorth</th>\n",
       "      <th>NetCashflowfromOperations</th>\n",
       "      <th>NetCashflowbeforeFinancing</th>\n",
       "      <th>NetCashflowfromFinancing</th>\n",
       "      <th>Contingent_Liability</th>\n",
       "      <th>Capital_Employed</th>\n",
       "      <th>No_Employees</th>\n",
       "      <th>status</th>\n",
       "      <th>UPLOAD</th>\n",
       "    </tr>\n",
       "  </thead>\n",
       "  <tbody>\n",
       "  </tbody>\n",
       "</table>\n",
       "<p>0 rows × 60 columns</p>\n",
       "</div>"
      ],
      "text/plain": [
       "Empty DataFrame\n",
       "Columns: [AC01, REGNUM, ACCDAT_start, ACCDAT, number_of_weeks, months, currency, consolidated, acctype, Turnover, Export, Cost_of_Sales, Gross_Profit, Wages_Salaries, Directors_Emoluments, Operating_Profits, Depreciation, Audit_Fees, Interest_Payments, Pre_Tax_Profit, taxation1, Profit_After_Tax, Dividends_Payable, Retained_Profits, Tangible_Assets, Intangible_Assets, Total_Fixed_Assets, Total_Current_Assets, Trade_Debtors, Stock, Cash, Other_Current_Assets, Increase_In_Cash, Mis_Current_Assets, Total_Assets, Total_Current_Liabilities, Trade_Creditors, Bank_Overdraft, Other_Short_Term_Fin, Mis_Current_Liabilities, Other_Long_Term_Fin, Total_Long_Term_Liabilities, Bank_Overdraft_LTL, Total_Liabilities, Net_Assets, Working_Capital, Paid_up_equity, PL_Account_Weserve, Sundry_Weserves, Revaluation_Weserve, Shareholder_Funds, NetWorth, NetCashflowfromOperations, NetCashflowbeforeFinancing, NetCashflowfromFinancing, Contingent_Liability, Capital_Employed, No_Employees, status, UPLOAD]\n",
       "Index: []\n",
       "\n",
       "[0 rows x 60 columns]"
      ]
     },
     "execution_count": 12,
     "metadata": {},
     "output_type": "execute_result"
    }
   ],
   "source": [
    "#!pip install pyreadstat #Run this if 'pyreadstat module is missing'\n",
    "database_file=(r'/Volumes/Pegasus32 R6/CreditSafe 2019 Zipped/UKLTD_Database/AC01.sav')\n",
    "if (os.path.isfile(database_file)):\n",
    "    print('Database found.','Reading database: \\n')\n",
    "    df_database=pd.read_spss(database_file)\n",
    "else:\n",
    "    print('Database not found.','Creating database: \\n')\n",
    "    df_database=pd.DataFrame(columns=AC01_header)\n",
    "    \n",
    "df_database"
   ]
  },
  {
   "cell_type": "code",
   "execution_count": 13,
   "metadata": {},
   "outputs": [
    {
     "name": "stdout",
     "output_type": "stream",
     "text": [
      "Number of variables: 60 \n",
      "Variables names:\n",
      " Index(['AC01', 'REGNUM', 'ACCDAT_start', 'ACCDAT', 'number_of_weeks', 'months',\n",
      "       'currency', 'consolidated', 'acctype', 'Turnover', 'Export',\n",
      "       'Cost_of_Sales', 'Gross_Profit', 'Wages_Salaries',\n",
      "       'Directors_Emoluments', 'Operating_Profits', 'Depreciation',\n",
      "       'Audit_Fees', 'Interest_Payments', 'Pre_Tax_Profit', 'taxation1',\n",
      "       'Profit_After_Tax', 'Dividends_Payable', 'Retained_Profits',\n",
      "       'Tangible_Assets', 'Intangible_Assets', 'Total_Fixed_Assets',\n",
      "       'Total_Current_Assets', 'Trade_Debtors', 'Stock', 'Cash',\n",
      "       'Other_Current_Assets', 'Increase_In_Cash', 'Mis_Current_Assets',\n",
      "       'Total_Assets', 'Total_Current_Liabilities', 'Trade_Creditors',\n",
      "       'Bank_Overdraft', 'Other_Short_Term_Fin', 'Mis_Current_Liabilities',\n",
      "       'Other_Long_Term_Fin', 'Total_Long_Term_Liabilities',\n",
      "       'Bank_Overdraft_LTL', 'Total_Liabilities', 'Net_Assets',\n",
      "       'Working_Capital', 'Paid_up_equity', 'PL_Account_Weserve',\n",
      "       'Sundry_Weserves', 'Revaluation_Weserve', 'Shareholder_Funds',\n",
      "       'NetWorth', 'NetCashflowfromOperations', 'NetCashflowbeforeFinancing',\n",
      "       'NetCashflowfromFinancing', 'Contingent_Liability', 'Capital_Employed',\n",
      "       'No_Employees', 'status', 'UPLOAD'],\n",
      "      dtype='object')\n"
     ]
    }
   ],
   "source": [
    "print('Number of variables:',len(df_database.columns),'\\nVariables names:\\n', df_database.columns)"
   ]
  },
  {
   "cell_type": "markdown",
   "metadata": {},
   "source": [
    "#### Updating database"
   ]
  },
  {
   "cell_type": "markdown",
   "metadata": {},
   "source": [
    "Rules:\n",
    "\n",
    "1. Check for fields:REG\n",
    "2. If they exist update ?? \n",
    "3. If not: add as new row in database"
   ]
  },
  {
   "cell_type": "code",
   "execution_count": 19,
   "metadata": {},
   "outputs": [],
   "source": [
    "def update_database(entry_dir):\n",
    "    global df_database\n",
    "    entry_file=\"AC01_\"+(entry_dir.split('_')[-2])+\"_\"+(entry_dir.split('_')[-1])+\".txt\"\n",
    "    print('Entry file:',entry_file)\n",
    "    df_entry_file=pd.read_csv(r'/Volumes/Pegasus32 R6/CreditSafe 2019 Zipped/%s/'%entry_dir+entry_file,sep='|',names=AC01_header)\n",
    "    df_entry_file['UPLOAD']=entry_file.split('.')[0]\n",
    "    for idx,entry_row in df_entry_file.iterrows():\n",
    "        database_row=df_database.loc[df_database['REGNUM']==entry_row['REGNUM']]\n",
    "        if(entry_row['REGNUM'] not in df_database['REGNUM'].unique()):\n",
    "            df_database=df_database.append(entry_row,ignore_index=True)\n",
    "        elif(entry_row.equals(other=database_row)):\n",
    "            df_database=df_database.append(entry_row,ignore_index=True)\n",
    "    return True"
   ]
  },
  {
   "cell_type": "code",
   "execution_count": null,
   "metadata": {},
   "outputs": [
    {
     "name": "stdout",
     "output_type": "stream",
     "text": [
      "\n",
      "Reading from entry dir: UKLTD_R_20190607\n",
      "Entry file: AC01_R_20190607.txt\n"
     ]
    }
   ],
   "source": [
    "## Reading from new directory\n",
    "for entry_dir in entry_dir_list:\n",
    "    print('\\nReading from entry dir:',entry_dir)\n",
    "    print('Update Success:',update_database(entry_dir))"
   ]
  },
  {
   "cell_type": "code",
   "execution_count": null,
   "metadata": {},
   "outputs": [],
   "source": [
    "df_database\n"
   ]
  },
  {
   "cell_type": "code",
   "execution_count": null,
   "metadata": {},
   "outputs": [],
   "source": [
    "## Writing updated databse to file\n",
    "df_database=pyreadstat.write_sav(df_database,database_file)"
   ]
  },
  {
   "cell_type": "code",
   "execution_count": null,
   "metadata": {},
   "outputs": [],
   "source": [
    "## Update processed directory list\n",
    "with open(r'/Volumes/Pegasus32 R6/CreditSafe 2019 Zipped/UKLTD_Scripts/dir_list.txt', 'w') as fd:\n",
    "    fd.write('\\n'.join(dir_list_old+entry_dir_list))"
   ]
  },
  {
   "cell_type": "code",
   "execution_count": null,
   "metadata": {},
   "outputs": [],
   "source": []
  },
  {
   "cell_type": "code",
   "execution_count": null,
   "metadata": {},
   "outputs": [],
   "source": []
  }
 ],
 "metadata": {
  "kernelspec": {
   "display_name": "Python 3",
   "language": "python",
   "name": "python3"
  },
  "language_info": {
   "codemirror_mode": {
    "name": "ipython",
    "version": 3
   },
   "file_extension": ".py",
   "mimetype": "text/x-python",
   "name": "python",
   "nbconvert_exporter": "python",
   "pygments_lexer": "ipython3",
   "version": "3.8.5"
  }
 },
 "nbformat": 4,
 "nbformat_minor": 4
}
