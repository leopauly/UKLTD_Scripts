{
 "cells": [
  {
   "cell_type": "code",
   "execution_count": 5,
   "metadata": {},
   "outputs": [
    {
     "name": "stdout",
     "output_type": "stream",
     "text": [
      "Description: Trying to install unrar,rar or 7zip\n"
     ]
    }
   ],
   "source": [
    "print('Description: Trying to install unrar,rar or 7zip')"
   ]
  },
  {
   "cell_type": "code",
   "execution_count": 4,
   "metadata": {},
   "outputs": [
    {
     "name": "stderr",
     "output_type": "stream",
     "text": [
      "'brew' is not recognized as an internal or external command,\n",
      "operable program or batch file.\n"
     ]
    }
   ],
   "source": [
    "## Option1: Install unrar using brew\n",
    "\n",
    "!/bin/bash -c \"$(curl -fsSL https://raw.githubusercontent.com/Homebrew/install/HEAD/install.sh)\"\n",
    "or \n",
    "!ruby -e \"$(curl -fsSL https://raw.githubusercontent.com/Homebrew/install/master/install)\" < /dev/null 2> /dev/null\n",
    "\n",
    "!brew install carlocab/personal/unrar"
   ]
  },
  {
   "cell_type": "code",
   "execution_count": 7,
   "metadata": {},
   "outputs": [
    {
     "name": "stderr",
     "output_type": "stream",
     "text": [
      "'wget' is not recognized as an internal or external command,\n",
      "operable program or batch file.\n"
     ]
    }
   ],
   "source": [
    "##  Option2: Using unrar binary\n",
    "!wget https://www.rarlab.com/rar/rarosx-6.0.0.tar.gz"
   ]
  },
  {
   "cell_type": "raw",
   "metadata": {},
   "source": [
    "1.Uzip the contents of above folder\n",
    "2.Copy the files: rar, unrar (from the unzipped folder)\n",
    "\n",
    "Then,\n",
    "\n",
    "1.Open Finder.\n",
    "2.Press Command+Shift+G to open the dialogue box.\n",
    "3.Input the following search: /usr/local/bin\n",
    "4.Place the copied contents here"
   ]
  },
  {
   "cell_type": "raw",
   "metadata": {},
   "source": [
    "## Option3: Using .dpkg file\n",
    "website: https://rudix.org/"
   ]
  }
 ],
 "metadata": {
  "kernelspec": {
   "display_name": "Python 3",
   "language": "python",
   "name": "python3"
  },
  "language_info": {
   "codemirror_mode": {
    "name": "ipython",
    "version": 3
   },
   "file_extension": ".py",
   "mimetype": "text/x-python",
   "name": "python",
   "nbconvert_exporter": "python",
   "pygments_lexer": "ipython3",
   "version": "3.8.5"
  }
 },
 "nbformat": 4,
 "nbformat_minor": 4
}
