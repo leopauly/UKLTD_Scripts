{
 "cells": [
  {
   "cell_type": "markdown",
   "metadata": {},
   "source": [
    "#### Description"
   ]
  },
  {
   "cell_type": "code",
   "execution_count": 1,
   "metadata": {},
   "outputs": [],
   "source": [
    "print('Author: Leo Pauly (cnlp@leeds.ac.uk) & Nick Wilson (n.wilson@lubs.leeds.ac.uk)')\n",
    "print('Description: Autmatic database update')"
   ]
  },
  {
   "cell_type": "markdown",
   "metadata": {},
   "source": [
    "#### Usage intructions & Other info"
   ]
  },
  {
   "cell_type": "markdown",
   "metadata": {},
   "source": [
    "1. Change/Add User (user variable options: 'leo','nick')\n",
    "2. Assumed that new entry directory names always start with UKLTD_R_ or UKLTD_W_\n",
    "3. File processed_dir_list_AC05.txt contains the processed directory list\n",
    "4. Prefefably install python using anacodna (all in one installation): https://www.anaconda.com/products/individual#windows\n",
    "5. Run this if 'pyarrow' module is missing':  !pip install pyarrow \n",
    "6. Check base_dir variable\n",
    "7. Databases are stored in the directory (Create one if missing) : UKLTD_Database \n",
    "8. Run this if 'patool' module is missing':  !pip install patool pyunpack\n",
    "9. Delete UKLTD_Database/AC05* directory and processed_dir_list_AC05.txt file (in UKLTD_Scripts dir) when running for the very first time"
   ]
  },
  {
   "cell_type": "code",
   "execution_count": 2,
   "metadata": {},
   "outputs": [],
   "source": [
    "#!pip install pyarrow \n",
    "#!pip install patool pyunpack\n",
    "#print('Extra modules installed')"
   ]
  },
  {
   "cell_type": "markdown",
   "metadata": {},
   "source": [
    "#### Imports"
   ]
  },
  {
   "cell_type": "code",
   "execution_count": 3,
   "metadata": {},
   "outputs": [
    {
     "name": "stdout",
     "output_type": "stream",
     "text": [
      "Python version: 3.8.5 (default, Sep  3 2020, 21:29:08) [MSC v.1916 64 bit (AMD64)]\n",
      "No: of logical CPU cores available: 8\n"
     ]
    }
   ],
   "source": [
    "import os\n",
    "import sys\n",
    "import pandas as pd\n",
    "import numpy as np\n",
    "import pyreadstat\n",
    "from zipfile import ZipFile\n",
    "import pyunpack\n",
    "import multiprocessing\n",
    "import dask.dataframe as dd\n",
    "import time\n",
    "import dask\n",
    "import csv\n",
    "from dask.diagnostics import ProgressBar\n",
    "from dask.distributed import Client\n",
    "dask.config.set(scheduler='threads')\n",
    "\n",
    "print('Python version:',sys.version)\n",
    "num_processes = multiprocessing.cpu_count()\n",
    "print('No: of logical CPU cores available:',num_processes)\n",
    "\n",
    "AC05_header_dtypes={'AC05': 'str','REGNUM': 'str','INSU001': 'str','INSU002': 'str','INSU003': 'str','INSU004': 'str','INSU005': 'str','INSU006': 'float64','INSU007': 'float64','INSU008': 'float64','INSU009': 'float64','INSU010': 'float64','INSU011': 'float64','INSU012': 'float64','INSU013': 'float64','INSU014': 'float64','INSU015': 'float64','INSU016': 'float64','INSU017': 'float64','INSU018': 'float64','INSU019': 'float64','INSU020': 'float64','INSU021': 'float64','INSU022': 'float64','INSU023': 'float64','INSU024': 'float64','INSU025': 'float64','INSU026': 'float64','INSU027': 'float64','INSU028': 'float64','INSU029': 'float64','INSU030': 'float64','INSU031': 'float64','INSU032': 'float64','INSU033': 'float64','INSU034': 'float64','INSU035': 'float64','INSU036': 'float64','INSU037': 'float64','INSU038': 'float64','INSU039': 'float64','INSU040': 'float64','INSU041': 'float64','INSU042': 'float64','INSU043': 'float64','INSU044': 'float64','INSU045': 'float64','INSU046': 'float64','INSU047': 'float64','INSU048': 'float64','INSU049': 'float64','INSU050': 'float64','INSU051': 'float64','INSU052': 'float64','INSU053': 'float64','INSU054': 'float64','INSU055': 'float64','INSU056': 'float64','INSU057': 'float64','INSU058': 'float64','INSU059': 'float64','INSU060': 'float64','INSU061': 'float64','INSU062': 'float64','INSU063': 'float64','INSU064': 'float64','INSU065': 'float64','INSU066': 'float64','INSU067': 'float64','INSU068': 'float64','INSU069': 'float64','INSU070': 'float64','INSU071': 'float64','INSU072': 'float64','INSU073': 'float64','INSU074': 'float64','INSU075': 'float64','INSU076': 'float64','INSU077': 'float64','INSU078': 'float64','INSU079': 'float64','INSU080': 'float64','INSU081': 'float64','INSU082': 'float64','INSU083': 'float64','INSU084': 'float64','INSU085': 'float64','INSU086': 'float64','INSU087': 'float64','INSU088': 'float64','INSU089': 'float64','INSU090': 'float64','INSU091': 'float64','INSU092': 'float64','INSU093': 'float64','INSU094': 'float64','INSU095': 'float64','INSU096': 'float64','INSU097': 'float64','INSU098': 'float64','INSU099': 'float64','INSU100': 'float64','INSU101': 'float64','INSU102': 'float64','INSU103': 'float64','INSU104': 'float64','INSU105': 'float64','INSU106': 'float64','INSU107': 'float64','INSU108': 'float64','INSU109': 'float64','INSU110': 'float64','INSU111': 'float64','INSU112': 'float64','INSU113': 'float64','INSU114': 'float64','INSU115': 'float64','INSU116': 'float64','INSU117': 'float64','INSU118': 'float64','INSU119': 'float64','INSU120': 'float64','INSU121': 'float64','INSU122': 'float64','INSU123': 'float64','INSU124': 'float64','INSU125': 'float64','INSU126': 'float64','INSU127': 'float64','INSU128': 'float64','INSU129': 'float64','INSU130': 'float64','INSU131': 'float64','INSU132': 'float64','INSU133': 'float64','INSU134': 'float64','INSU135': 'float64','INSU136': 'float64','INSU137': 'float64','INSU138': 'float64','INSU139': 'float64','INSU140': 'float64','INSU141': 'float64','INSU142': 'float64','INSU143': 'float64','INSU144': 'float64','INSU145': 'float64','INSU146': 'float64','INSU147': 'float64','INSU148': 'float64','INSU149': 'float64','INSU150': 'float64','INSU151': 'float64','INSU152': 'float64','INSU153': 'float64','INSU154': 'float64','INSU155': 'float64','INSU156': 'float64','UPLOAD': 'str'}\n",
    "AC05_header_names=list(AC05_header_dtypes.keys())"
   ]
  },
  {
   "cell_type": "code",
   "execution_count": 4,
   "metadata": {},
   "outputs": [],
   "source": [
    "## Selectting user and adding filepaths\n",
    "user='leo' #(user variable options: 'leo','nick')\n",
    "if(user=='leo'):\n",
    "    base_dir='C:/Users/cnlp/Research Fellowship/'\n",
    "elif(user=='nick'):\n",
    "    base_dir='/Volumes/Pegasus32 R6/CreditSafe 2019 Zipped/'\n",
    "\n",
    "os.makedirs(base_dir+'UKLTD_Database', exist_ok=True)\n",
    "dir_list_file=base_dir+'/UKLTD_Scripts/processed_dir_list_AC05.txt'\n",
    "database_file_folder=base_dir+'UKLTD_Database/AC05/'"
   ]
  },
  {
   "cell_type": "markdown",
   "metadata": {},
   "source": [
    "#### Checking new entries"
   ]
  },
  {
   "cell_type": "code",
   "execution_count": 5,
   "metadata": {},
   "outputs": [
    {
     "name": "stdout",
     "output_type": "stream",
     "text": [
      "List of processed directores:\n",
      "\n",
      "\n",
      "New entries detected:\n",
      "UKLTD_W_20190602\n",
      "UKLTD_W_20190609\n",
      "UKLTD_W_20190616\n",
      "UKLTD_W_7\n"
     ]
    }
   ],
   "source": [
    "## Checking for new download\n",
    "with open(dir_list_file, 'a+') as fd:\n",
    "    fd.seek(0)\n",
    "    dir_list_old=fd.read().split('\\n')\n",
    "\n",
    "print('List of processed directores:',*dir_list_old,sep='\\n')\n",
    "dir_list_new=[dir_name for dir_name in os.listdir(base_dir) if (dir_name.startswith(\"UKLTD_W\") or dir_name.startswith(\"UKLTD_R\"))]\n",
    "entry_dir_list=[entry_dir for entry_dir in dir_list_new if entry_dir not in dir_list_old ]\n",
    "print('\\nNew entries detected:',*entry_dir_list,sep='\\n')"
   ]
  },
  {
   "cell_type": "markdown",
   "metadata": {},
   "source": [
    "#### Creating/Loading database "
   ]
  },
  {
   "cell_type": "code",
   "execution_count": 6,
   "metadata": {},
   "outputs": [
    {
     "name": "stdout",
     "output_type": "stream",
     "text": [
      "Database not found. Creating database! \n",
      "\n"
     ]
    }
   ],
   "source": [
    "## If databse is in .csv format \n",
    "if (os.path.exists(database_file_folder)):\n",
    "    print('Database found.','Reading database! \\n') \n",
    "    start = time.process_time()\n",
    "    with ProgressBar():\n",
    "        df_database = dd.read_parquet(database_file_folder) \n",
    "    print('Time taken to read database {}:'.format(database_file_folder),time.process_time() - start,'s')\n",
    "    database_missing=False\n",
    "else:\n",
    "    print('Database not found.','Creating database! \\n')\n",
    "    database_missing=True\n",
    "    \n"
   ]
  },
  {
   "cell_type": "markdown",
   "metadata": {},
   "source": [
    "#### Updating database"
   ]
  },
  {
   "cell_type": "markdown",
   "metadata": {},
   "source": [
    "Rules:\n",
    "\n",
    "1. Concatenate new entries to the existig database\n",
    "2. Run de_duplicating fucntion"
   ]
  },
  {
   "cell_type": "code",
   "execution_count": 7,
   "metadata": {},
   "outputs": [],
   "source": [
    "def update_database(entry_dir): \n",
    "    global df_database\n",
    "    global database_missing\n",
    "    \n",
    "    \n",
    "    ## Checking and unzipping new entry file\n",
    "    entry_file=\"AC05_\"+(entry_dir.split('_')[-2])+\"_\"+(entry_dir.split('_')[-1])+\".txt\"\n",
    "    entry_file_zip=\"AC05_\"+(entry_dir.split('_')[-2])+\"_\"+(entry_dir.split('_')[-1])+\".rar\"\n",
    "    print('Unzipping:',entry_file_zip)\n",
    "    try:\n",
    "        pyunpack.Archive(base_dir+'{}/{}'.format(entry_dir,entry_file_zip)).extractall(base_dir+'{}/'.format(entry_dir))\n",
    "        print('Entry file unzipped as:',entry_file)\n",
    "    except:\n",
    "        print(\"Rar file not found: {}\".format(entry_file_zip))\n",
    "        print('Skipping this entry:%s'%entry_dir)\n",
    "        return None\n",
    "       \n",
    "    ## Reading new entry file\n",
    "    start = time.process_time()\n",
    "    with ProgressBar():\n",
    "        df_entry_file=dd.read_csv(base_dir+entry_dir+'/'+entry_file,sep='|',names=AC05_header_names,dtype=AC05_header_dtypes,encoding='iso-8859-1',quoting=csv.QUOTE_NONE)\n",
    "    print('Time taken to read:',time.process_time() - start,'s')\n",
    "    df_entry_file['UPLOAD']=entry_file.split('.')[0]\n",
    "    \n",
    "    \n",
    "    ## Adding new entry_rows to main database after checking\n",
    "    if(database_missing):\n",
    "        df_database=df_entry_file\n",
    "        database_missing=False\n",
    "    else:\n",
    "        print('Appending...!')\n",
    "        start = time.process_time()\n",
    "        with ProgressBar():\n",
    "            df_database=df_database.append(df_entry_file)\n",
    "        print('Time taken to append:',time.process_time() - start,'s')  "
   ]
  },
  {
   "cell_type": "code",
   "execution_count": 8,
   "metadata": {
    "scrolled": true
   },
   "outputs": [
    {
     "name": "stdout",
     "output_type": "stream",
     "text": [
      "\n",
      "Reading from entry dir: UKLTD_W_20190602\n",
      "Unzipping: AC05_W_20190602.rar\n",
      "Entry file unzipped as: AC05_W_20190602.txt\n",
      "Time taken to read: 0.015625 s\n",
      "\n",
      "Reading from entry dir: UKLTD_W_20190609\n",
      "Unzipping: AC05_W_20190609.rar\n",
      "Entry file unzipped as: AC05_W_20190609.txt\n",
      "Time taken to read: 0.015625 s\n",
      "Appending...!\n",
      "Time taken to append: 0.0625 s\n",
      "\n",
      "Reading from entry dir: UKLTD_W_20190616\n",
      "Unzipping: AC05_W_20190616.rar\n",
      "Entry file unzipped as: AC05_W_20190616.txt\n",
      "Time taken to read: 0.015625 s\n",
      "Appending...!\n",
      "Time taken to append: 0.09375 s\n",
      "\n",
      "Reading from entry dir: UKLTD_W_7\n",
      "Unzipping: AC05_W_7.rar\n",
      "Rar file not found: AC05_W_7.rar\n",
      "Skipping this entry:UKLTD_W_7\n"
     ]
    }
   ],
   "source": [
    "## Reading from new directory and adding to database\n",
    "for entry_dir in entry_dir_list:\n",
    "    print('\\nReading from entry dir:',entry_dir)\n",
    "    update_database(entry_dir)"
   ]
  },
  {
   "cell_type": "code",
   "execution_count": 9,
   "metadata": {},
   "outputs": [
    {
     "name": "stdout",
     "output_type": "stream",
     "text": [
      "Original colomn list: Index(['AC05', 'REGNUM', 'INSU001', 'INSU002', 'INSU003', 'INSU004', 'INSU005',\n",
      "       'INSU006', 'INSU007', 'INSU008',\n",
      "       ...\n",
      "       'INSU148', 'INSU149', 'INSU150', 'INSU151', 'INSU152', 'INSU153',\n",
      "       'INSU154', 'INSU155', 'INSU156', 'UPLOAD'],\n",
      "      dtype='object', length=159) \n",
      "\n",
      "Colomns to check while de-duplicating: ['AC05', 'REGNUM', 'INSU001', 'INSU002', 'INSU003', 'INSU004', 'INSU005', 'INSU006', 'INSU007', 'INSU008', 'INSU009', 'INSU010', 'INSU011', 'INSU012', 'INSU013', 'INSU014', 'INSU015', 'INSU016', 'INSU017', 'INSU018', 'INSU019', 'INSU020', 'INSU021', 'INSU022', 'INSU023', 'INSU024', 'INSU025', 'INSU026', 'INSU027', 'INSU028', 'INSU029', 'INSU030', 'INSU031', 'INSU032', 'INSU033', 'INSU034', 'INSU035', 'INSU036', 'INSU037', 'INSU038', 'INSU039', 'INSU040', 'INSU041', 'INSU042', 'INSU043', 'INSU044', 'INSU045', 'INSU046', 'INSU047', 'INSU048', 'INSU049', 'INSU050', 'INSU051', 'INSU052', 'INSU053', 'INSU054', 'INSU055', 'INSU056', 'INSU057', 'INSU058', 'INSU059', 'INSU060', 'INSU061', 'INSU062', 'INSU063', 'INSU064', 'INSU065', 'INSU066', 'INSU067', 'INSU068', 'INSU069', 'INSU070', 'INSU071', 'INSU072', 'INSU073', 'INSU074', 'INSU075', 'INSU076', 'INSU077', 'INSU078', 'INSU079', 'INSU080', 'INSU081', 'INSU082', 'INSU083', 'INSU084', 'INSU085', 'INSU086', 'INSU087', 'INSU088', 'INSU089', 'INSU090', 'INSU091', 'INSU092', 'INSU093', 'INSU094', 'INSU095', 'INSU096', 'INSU097', 'INSU098', 'INSU099', 'INSU100', 'INSU101', 'INSU102', 'INSU103', 'INSU104', 'INSU105', 'INSU106', 'INSU107', 'INSU108', 'INSU109', 'INSU110', 'INSU111', 'INSU112', 'INSU113', 'INSU114', 'INSU115', 'INSU116', 'INSU117', 'INSU118', 'INSU119', 'INSU120', 'INSU121', 'INSU122', 'INSU123', 'INSU124', 'INSU125', 'INSU126', 'INSU127', 'INSU128', 'INSU129', 'INSU130', 'INSU131', 'INSU132', 'INSU133', 'INSU134', 'INSU135', 'INSU136', 'INSU137', 'INSU138', 'INSU139', 'INSU140', 'INSU141', 'INSU142', 'INSU143', 'INSU144', 'INSU145', 'INSU146', 'INSU147', 'INSU148', 'INSU149', 'INSU150', 'INSU151', 'INSU152', 'INSU153', 'INSU154', 'INSU155', 'INSU156']\n"
     ]
    }
   ],
   "source": [
    "## Deduplication list \n",
    "AC05_header_names_dedup_list=list(np.array(df_database.columns))\n",
    "AC05_header_names_dedup_list.remove('UPLOAD')\n",
    "print('Original colomn list:',df_database.columns,'\\n',)\n",
    "print('Colomns to check while de-duplicating:',AC05_header_names_dedup_list)"
   ]
  },
  {
   "cell_type": "code",
   "execution_count": 10,
   "metadata": {
    "scrolled": true
   },
   "outputs": [
    {
     "name": "stdout",
     "output_type": "stream",
     "text": [
      "Time taken to de duplicate: 0.03125 s\n"
     ]
    }
   ],
   "source": [
    "## De duplicating\n",
    "start = time.process_time()\n",
    "df_database=df_database.drop_duplicates(subset=AC05_header_names_dedup_list).repartition(npartitions=df_database.npartitions) \n",
    "print('Time taken to de duplicate:',time.process_time() - start,'s')"
   ]
  },
  {
   "cell_type": "code",
   "execution_count": 11,
   "metadata": {},
   "outputs": [
    {
     "name": "stdout",
     "output_type": "stream",
     "text": [
      "No: of partitions to be written: 3\n"
     ]
    }
   ],
   "source": [
    "## Reseting index\n",
    "df_database=df_database.reset_index(drop=True)\n",
    "print('No: of partitions to be written:',df_database.npartitions)"
   ]
  },
  {
   "cell_type": "markdown",
   "metadata": {},
   "source": [
    "#### Writing into disk"
   ]
  },
  {
   "cell_type": "code",
   "execution_count": 12,
   "metadata": {},
   "outputs": [
    {
     "name": "stdout",
     "output_type": "stream",
     "text": [
      "[########################################] | 100% Completed |  0.3s\n",
      "Time taken to write: 0.421875 s\n"
     ]
    }
   ],
   "source": [
    "## Writing updated databse to file\n",
    "import pyarrow as pa\n",
    "#schema=pa.schema([('AC05',pa.string()),('PNR',pa.float64()),('DTTITLE',pa.string()),('PTITLE',pa.string()),('INILS',pa.string()),('SUFF',pa.string()),('HNRS',pa.string()),('FNAME',pa.string()),('MNAME',pa.string()),('SNAME',pa.string()),('ADD1',pa.string()),('ADD2',pa.string()),('ADD3',pa.string()),('ADD4',pa.string()),('ADD5',pa.string()),('PCODE',pa.string()),('CNTRY',pa.string()),('BDATE',pa.string()),('FBDATE',pa.string()),('NALTY',pa.string()),('SADD',pa.string()),('MMARK',pa.string()),('URC',pa.string()),('CHGL',pa.float64()),('CHDATE',pa.string()),('RCDATE',pa.string()),('UPLOAD',pa.string())])\n",
    "start = time.process_time()\n",
    "with ProgressBar():\n",
    "    df_database.to_parquet(database_file_folder)#,schema=schema)\n",
    "print('Time taken to write:',time.process_time() - start,'s')"
   ]
  },
  {
   "cell_type": "code",
   "execution_count": 13,
   "metadata": {},
   "outputs": [
    {
     "name": "stdout",
     "output_type": "stream",
     "text": [
      "Processed list updated\n"
     ]
    }
   ],
   "source": [
    "## Update processed directory list\n",
    "print('Processed list updated')\n",
    "with open(dir_list_file, 'w') as fd:\n",
    "    fd.write('\\n'.join(dir_list_old+entry_dir_list))"
   ]
  },
  {
   "cell_type": "code",
   "execution_count": null,
   "metadata": {},
   "outputs": [],
   "source": []
  }
 ],
 "metadata": {
  "kernelspec": {
   "display_name": "Python 3",
   "language": "python",
   "name": "python3"
  },
  "language_info": {
   "codemirror_mode": {
    "name": "ipython",
    "version": 3
   },
   "file_extension": ".py",
   "mimetype": "text/x-python",
   "name": "python",
   "nbconvert_exporter": "python",
   "pygments_lexer": "ipython3",
   "version": "3.8.5"
  }
 },
 "nbformat": 4,
 "nbformat_minor": 4
}
