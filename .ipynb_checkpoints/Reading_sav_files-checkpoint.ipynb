{
 "cells": [
  {
   "cell_type": "markdown",
   "metadata": {},
   "source": [
    "#### Description"
   ]
  },
  {
   "cell_type": "code",
   "execution_count": 1,
   "metadata": {},
   "outputs": [
    {
     "name": "stdout",
     "output_type": "stream",
     "text": [
      "Author: Leo Pauly (cnlp@leeds.ac.uk) & Nick Wilson (n.wilson@lubs.leeds.ac.uk)\n",
      "Description: Autmatic database update\n"
     ]
    }
   ],
   "source": [
    "print('Author: Leo Pauly (cnlp@leeds.ac.uk) & Nick Wilson (n.wilson@lubs.leeds.ac.uk)')\n",
    "print('Description: Autmatic database update')"
   ]
  },
  {
   "cell_type": "markdown",
   "metadata": {},
   "source": [
    "#### Imports"
   ]
  },
  {
   "cell_type": "code",
   "execution_count": 1,
   "metadata": {},
   "outputs": [
    {
     "name": "stdout",
     "output_type": "stream",
     "text": [
      "Python version: 3.8.5 (default, Sep  3 2020, 21:29:08) [MSC v.1916 64 bit (AMD64)]\n",
      "No: of logical CPU cores available: 8\n"
     ]
    }
   ],
   "source": [
    "import os\n",
    "import sys\n",
    "import pandas as pd\n",
    "import numpy as np\n",
    "import pyreadstat\n",
    "from zipfile import ZipFile\n",
    "import pyunpack\n",
    "import multiprocessing\n",
    "import dask.dataframe as dd\n",
    "import time\n",
    "import dask\n",
    "from dask.diagnostics import ProgressBar\n",
    "from dask.distributed import Client\n",
    "dask.config.set(scheduler='threads')\n",
    "\n",
    "print('Python version:',sys.version)\n",
    "num_processes = multiprocessing.cpu_count()\n",
    "print('No: of logical CPU cores available:',num_processes)"
   ]
  },
  {
   "cell_type": "markdown",
   "metadata": {},
   "source": [
    "#### Reading sav files"
   ]
  },
  {
   "cell_type": "code",
   "execution_count": 2,
   "metadata": {},
   "outputs": [],
   "source": [
    "df_database=pd.read_spss(\"../UKLTD_Database/MR01_Nk.sav\")"
   ]
  },
  {
   "cell_type": "code",
   "execution_count": 3,
   "metadata": {},
   "outputs": [],
   "source": [
    "header_list=df_database.columns.values"
   ]
  },
  {
   "cell_type": "code",
   "execution_count": 4,
   "metadata": {},
   "outputs": [],
   "source": [
    "header_list_types = dict.fromkeys(header_list, \"str\")"
   ]
  },
  {
   "cell_type": "code",
   "execution_count": 5,
   "metadata": {},
   "outputs": [
    {
     "name": "stdout",
     "output_type": "stream",
     "text": [
      "{'MR01': 'str', 'REGNUM': 'str', 'NUM': 'str', 'REGDATE': 'str', 'CREDATE': 'str', 'SATDATE': 'str', 'CHDATE': 'str', 'MEM': 'str', 'CHCODE': 'str', 'UPLOAD': 'str'}\n"
     ]
    }
   ],
   "source": [
    "print(header_list_types)"
   ]
  },
  {
   "cell_type": "code",
   "execution_count": 6,
   "metadata": {},
   "outputs": [
    {
     "data": {
      "text/plain": [
       "{'SH03': 'str',\n",
       " 'PNR': 'float64',\n",
       " 'STITLE': 'str',\n",
       " 'SFORE': 'str',\n",
       " 'SSUR': 'str',\n",
       " 'SHTP': 'str',\n",
       " 'ADD1': 'str',\n",
       " 'ADD2': 'str',\n",
       " 'ADD3': 'str',\n",
       " 'ADD4': 'str',\n",
       " 'ADD5': 'str',\n",
       " 'PCODE': 'str',\n",
       " 'UPLOAD': 'str'}"
      ]
     },
     "execution_count": 6,
     "metadata": {},
     "output_type": "execute_result"
    }
   ],
   "source": [
    "{'SH03': 'str', 'PNR': 'float64', 'STITLE': 'str', 'SFORE': 'str', 'SSUR': 'str', 'SHTP': 'str', 'ADD1': 'str', 'ADD2': 'str', 'ADD3': 'str', 'ADD4': 'str', 'ADD5': 'str', 'PCODE': 'str', 'UPLOAD': 'str'}"
   ]
  },
  {
   "cell_type": "markdown",
   "metadata": {},
   "source": [
    "#### Manually - I"
   ]
  },
  {
   "cell_type": "code",
   "execution_count": 7,
   "metadata": {},
   "outputs": [],
   "source": [
    "checker={'CD03': 'str',\n",
    "'ADDID': 'float64',\n",
    "'ADD1': 'str',\n",
    "'ADD2': 'str',\n",
    "'ADD3': 'str',\n",
    "'ADD4': 'str',\n",
    "'ADD5': 'str',\n",
    "'PCODE': 'str',\n",
    "'CROF': 'str',\n",
    "'PBOX': 'str',\n",
    "'UPLOAD': 'str',}"
   ]
  },
  {
   "cell_type": "code",
   "execution_count": 8,
   "metadata": {},
   "outputs": [
    {
     "name": "stdout",
     "output_type": "stream",
     "text": [
      "{'CD03': 'str', 'ADDID': 'float64', 'ADD1': 'str', 'ADD2': 'str', 'ADD3': 'str', 'ADD4': 'str', 'ADD5': 'str', 'PCODE': 'str', 'CROF': 'str', 'PBOX': 'str', 'UPLOAD': 'str'}\n"
     ]
    }
   ],
   "source": [
    "print(checker)"
   ]
  },
  {
   "cell_type": "markdown",
   "metadata": {},
   "source": [
    "#### Manually - II"
   ]
  },
  {
   "cell_type": "code",
   "execution_count": 33,
   "metadata": {},
   "outputs": [],
   "source": [
    "def joinStrings(stringList):\n",
    "    single_string=\"\"\n",
    "    for e in stringList:\n",
    "        single_string = single_string + e + ','\n",
    "    return single_string"
   ]
  },
  {
   "cell_type": "code",
   "execution_count": 37,
   "metadata": {},
   "outputs": [
    {
     "name": "stdout",
     "output_type": "stream",
     "text": [
      "'AC04': 'str','REGNUM': 'str','FINA001': 'float64','FINA002': 'float64','FINA003': 'float64','FINA004': 'float64','FINA005': 'float64','FINA006': 'float64','FINA007': 'float64','FINA008': 'float64','FINA009': 'float64','FINA010': 'float64','FINA011': 'float64','FINA012': 'float64','FINA013': 'float64','FINA014': 'float64','FINA015': 'float64','FINA016': 'float64','FINA017': 'float64','FINA018': 'float64','FINA019': 'float64','FINA020': 'float64','FINA021': 'float64','FINA022': 'float64','FINA023': 'float64','FINA024': 'float64','FINA025': 'float64','FINA026': 'float64','FINA027': 'float64','FINA028': 'float64','FINA029': 'float64','FINA030': 'float64','FINA031': 'float64','FINA032': 'float64','FINA033': 'float64','FINA034': 'float64','FINA035': 'float64','FINA036': 'float64','FINA037': 'float64','FINA038': 'float64','FINA039': 'float64','FINA040': 'float64','FINA041': 'float64','FINA042': 'float64','FINA043': 'float64','FINA044': 'float64','FINA045': 'float64','FINA046': 'float64','FINA047': 'float64','FINA048': 'float64','FINA049': 'float64','FINA050': 'float64','FINA051': 'float64','FINA052': 'float64','FINA053': 'float64','FINA054': 'float64','FINA055': 'float64','FINA056': 'float64','FINA057': 'float64','FINA058': 'float64','FINA059': 'float64','FINA060': 'float64','FINA061': 'float64','FINA062': 'float64','FINA063': 'float64','FINA064': 'float64','FINA065': 'float64','FINA066': 'float64','FINA067': 'float64','FINA068': 'float64','FINA069': 'float64','FINA070': 'float64','FINA071': 'float64','FINA072': 'float64','FINA073': 'float64','FINA074': 'float64','FINA075': 'float64','FINA076': 'float64','FINA077': 'float64','FINA078': 'float64','FINA079': 'float64','FINA080': 'float64','FINA081': 'float64','FINA082': 'float64','FINA083': 'float64','FINA084': 'float64','FINA085': 'float64','FINA086': 'float64','FINA087': 'float64','FINA088': 'float64','FINA089': 'float64','FINA090': 'float64','FINA091': 'float64','FINA092': 'float64','FINA093': 'float64','FINA094': 'float64','FINA095': 'float64','FINA096': 'float64','FINA097': 'float64','FINA098': 'float64','FINA099': 'float64','FINA100': 'float64','FINA101': 'float64','FINA102': 'float64','FINA103': 'float64','FINA104': 'float64','FINA105': 'float64','FINA106': 'float64','FINA107': 'float64','FINA108': 'float64','FINA109': 'float64','FINA110': 'float64','FINA111': 'float64','FINA112': 'float64','FINA113': 'float64','FINA114': 'float64','FINA115': 'float64','FINA116': 'float64','FINA117': 'float64','FINA118': 'float64','FINA119': 'float64','FINA120': 'float64','FINA121': 'float64','FINA122': 'float64','FINA123': 'float64','FINA124': 'float64','FINA125': 'float64','FINA126': 'float64','FINA127': 'float64','FINA128': 'float64','FINA129': 'float64','FINA130': 'float64','FINA131': 'float64','FINA132': 'float64','FINA133': 'float64','FINA134': 'float64','FINA135': 'float64','FINA136': 'float64','FINA137': 'float64','FINA138': 'float64','FINA139': 'float64','FINA140': 'float64','FINA141': 'float64','FINA142': 'float64','FINA143': 'float64','FINA144': 'float64','FINA145': 'float64','FINA146': 'float64','FINA147': 'float64','FINA148': 'float64','FINA149': 'float64','FINA150': 'float64','FINA151': 'float64','FINA152': 'float64','FINA153': 'float64','FINA154': 'float64','FINA155': 'float64','FINA156': 'float64','FINA157': 'float64','FINA158': 'float64','FINA159': 'float64','FINA160': 'float64','FINA161': 'float64','FINA162': 'float64','FINA163': 'float64','FINA164': 'float64','FINA165': 'float64','FINA166': 'float64','FINA167': 'float64','FINA168': 'float64','FINA169': 'float64','FINA170': 'float64','FINA171': 'float64','UPLOAD': 'str',\n"
     ]
    }
   ],
   "source": [
    "checker=['\\'AC05\\': \\'str\\'','\\'REGNUM\\': \\'str\\'']\n",
    "\n",
    "for i in range(1,157):\n",
    "    checker.append('\\'INSU{0:03}\\': \\'float64\\''.format(i))\n",
    "\n",
    "checker.append('\\'UPLOAD\\': \\'str\\'') \n",
    "\n",
    "checker_new=joinStrings(checker)\n",
    "print(checker_new)"
   ]
  },
  {
   "cell_type": "code",
   "execution_count": 35,
   "metadata": {},
   "outputs": [
    {
     "data": {
      "text/plain": [
       "\"'AC04': 'str','REGNUM': 'str','FINA000': 'float64','FINA001': 'float64','FINA002': 'float64','FINA003': 'float64','FINA004': 'float64','FINA005': 'float64','FINA006': 'float64','FINA007': 'float64','FINA008': 'float64','FINA009': 'float64','FINA010': 'float64','FINA011': 'float64','FINA012': 'float64','FINA013': 'float64','FINA014': 'float64','FINA015': 'float64','FINA016': 'float64','FINA017': 'float64','FINA018': 'float64','FINA019': 'float64','FINA020': 'float64','FINA021': 'float64','FINA022': 'float64','FINA023': 'float64','FINA024': 'float64','FINA025': 'float64','FINA026': 'float64','FINA027': 'float64','FINA028': 'float64','FINA029': 'float64','FINA030': 'float64','FINA031': 'float64','FINA032': 'float64','FINA033': 'float64','FINA034': 'float64','FINA035': 'float64','FINA036': 'float64','FINA037': 'float64','FINA038': 'float64','FINA039': 'float64','FINA040': 'float64','FINA041': 'float64','FINA042': 'float64','FINA043': 'float64','FINA044': 'float64','FINA045': 'float64','FINA046': 'float64','FINA047': 'float64','FINA048': 'float64','FINA049': 'float64','FINA050': 'float64','FINA051': 'float64','FINA052': 'float64','FINA053': 'float64','FINA054': 'float64','FINA055': 'float64','FINA056': 'float64','FINA057': 'float64','FINA058': 'float64','FINA059': 'float64','FINA060': 'float64','FINA061': 'float64','FINA062': 'float64','FINA063': 'float64','FINA064': 'float64','FINA065': 'float64','FINA066': 'float64','FINA067': 'float64','FINA068': 'float64','FINA069': 'float64','FINA070': 'float64','FINA071': 'float64','FINA072': 'float64','FINA073': 'float64','FINA074': 'float64','FINA075': 'float64','FINA076': 'float64','FINA077': 'float64','FINA078': 'float64','FINA079': 'float64','FINA080': 'float64','FINA081': 'float64','FINA082': 'float64','FINA083': 'float64','FINA084': 'float64','FINA085': 'float64','FINA086': 'float64','FINA087': 'float64','FINA088': 'float64','FINA089': 'float64','FINA090': 'float64','FINA091': 'float64','FINA092': 'float64','FINA093': 'float64','FINA094': 'float64','FINA095': 'float64','FINA096': 'float64','FINA097': 'float64','FINA098': 'float64','FINA099': 'float64','UPLOAD': 'str',\""
      ]
     },
     "execution_count": 35,
     "metadata": {},
     "output_type": "execute_result"
    }
   ],
   "source": [
    "checker_new"
   ]
  },
  {
   "cell_type": "code",
   "execution_count": null,
   "metadata": {},
   "outputs": [],
   "source": []
  },
  {
   "cell_type": "markdown",
   "metadata": {},
   "source": [
    "#### Encoding Testing"
   ]
  },
  {
   "cell_type": "code",
   "execution_count": 9,
   "metadata": {},
   "outputs": [],
   "source": [
    "import csv\n",
    "df_entry_file=pd.read_csv('testing.txt',encoding='iso-8859-1',sep='|',quoting=csv.QUOTE_NONE)\n"
   ]
  },
  {
   "cell_type": "code",
   "execution_count": 10,
   "metadata": {},
   "outputs": [
    {
     "data": {
      "text/html": [
       "<div>\n",
       "<style scoped>\n",
       "    .dataframe tbody tr th:only-of-type {\n",
       "        vertical-align: middle;\n",
       "    }\n",
       "\n",
       "    .dataframe tbody tr th {\n",
       "        vertical-align: top;\n",
       "    }\n",
       "\n",
       "    .dataframe thead th {\n",
       "        text-align: right;\n",
       "    }\n",
       "</style>\n",
       "<table border=\"1\" class=\"dataframe\">\n",
       "  <thead>\n",
       "    <tr style=\"text-align: right;\">\n",
       "      <th></th>\n",
       "      <th>ï»¿hello</th>\n",
       "      <th>hi</th>\n",
       "      <th>me</th>\n",
       "    </tr>\n",
       "  </thead>\n",
       "  <tbody>\n",
       "    <tr>\n",
       "      <th>0</th>\n",
       "      <td>1</td>\n",
       "      <td>leo</td>\n",
       "      <td>leo</td>\n",
       "    </tr>\n",
       "    <tr>\n",
       "      <th>1</th>\n",
       "      <td>2</td>\n",
       "      <td>\"me</td>\n",
       "      <td>hi\"</td>\n",
       "    </tr>\n",
       "  </tbody>\n",
       "</table>\n",
       "</div>"
      ],
      "text/plain": [
       "   ï»¿hello   hi   me\n",
       "0         1  leo  leo\n",
       "1         2  \"me  hi\""
      ]
     },
     "execution_count": 10,
     "metadata": {},
     "output_type": "execute_result"
    }
   ],
   "source": [
    "df_entry_file"
   ]
  },
  {
   "cell_type": "code",
   "execution_count": 11,
   "metadata": {},
   "outputs": [],
   "source": [
    " pyreadstat.write_sav(df_entry_file,'testing.sav',compress=False)"
   ]
  },
  {
   "cell_type": "code",
   "execution_count": null,
   "metadata": {},
   "outputs": [],
   "source": []
  }
 ],
 "metadata": {
  "kernelspec": {
   "display_name": "Python 3",
   "language": "python",
   "name": "python3"
  },
  "language_info": {
   "codemirror_mode": {
    "name": "ipython",
    "version": 3
   },
   "file_extension": ".py",
   "mimetype": "text/x-python",
   "name": "python",
   "nbconvert_exporter": "python",
   "pygments_lexer": "ipython3",
   "version": "3.8.5"
  }
 },
 "nbformat": 4,
 "nbformat_minor": 4
}
