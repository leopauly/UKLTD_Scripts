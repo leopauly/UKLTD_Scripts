{
 "cells": [
  {
   "cell_type": "markdown",
   "metadata": {},
   "source": [
    "#### Description"
   ]
  },
  {
   "cell_type": "code",
   "execution_count": 1,
   "metadata": {},
   "outputs": [
    {
     "name": "stdout",
     "output_type": "stream",
     "text": [
      "Author: Leo Pauly (cnlp@leeds.ac.uk) & Nick Wilson (n.wilson@lubs.leeds.ac.uk)\n",
      "Description: Autmatic database update\n"
     ]
    }
   ],
   "source": [
    "print('Author: Leo Pauly (cnlp@leeds.ac.uk) & Nick Wilson (n.wilson@lubs.leeds.ac.uk)')\n",
    "print('Description: Autmatic database update')"
   ]
  },
  {
   "cell_type": "markdown",
   "metadata": {},
   "source": [
    "#### Imports"
   ]
  },
  {
   "cell_type": "code",
   "execution_count": 2,
   "metadata": {},
   "outputs": [
    {
     "name": "stdout",
     "output_type": "stream",
     "text": [
      "Python version: 3.8.5 (default, Sep  3 2020, 21:29:08) [MSC v.1916 64 bit (AMD64)]\n",
      "No: of logical CPU cores available: 8\n"
     ]
    }
   ],
   "source": [
    "import os\n",
    "import sys\n",
    "import pandas as pd\n",
    "import numpy as np\n",
    "import pyreadstat\n",
    "from zipfile import ZipFile\n",
    "import pyunpack\n",
    "import multiprocessing\n",
    "import dask.dataframe as dd\n",
    "import time\n",
    "import dask\n",
    "from dask.diagnostics import ProgressBar\n",
    "from dask.distributed import Client\n",
    "dask.config.set(scheduler='threads')\n",
    "\n",
    "print('Python version:',sys.version)\n",
    "num_processes = multiprocessing.cpu_count()\n",
    "print('No: of logical CPU cores available:',num_processes)\n",
    "\n",
    "AC02_header_dtypes={'AC01': 'str', 'REGNUM': 'str','ACCDAT_start': 'str','ACCDAT': 'str', 'number_of_weeks':'str', 'months':'str', 'currency': 'str', 'consolidated': 'str', 'acctype': 'str', 'Turnover': 'float64', 'Export': 'float64', 'Cost_of_Sales': 'float64', 'Gross_Profit': 'float64', 'Wages_Salaries': 'float64', 'Directors_Emoluments': 'float64', 'Operating_Profits': 'float64', 'Depreciation': 'float64', 'Audit_Fees': 'float64', 'Interest_Payments': 'float64', 'Pre_Tax_Profit': 'float64', 'taxation1': 'float64', 'Profit_After_Tax': 'float64', 'Dividends_Payable': 'float64', 'Retained_Profits': 'float64', 'Tangible_Assets': 'float64', 'Intangible_Assets': 'float64', 'Total_Fixed_Assets': 'float64', 'Total_Current_Assets': 'float64', 'Trade_Debtors': 'float64', 'Stock': 'float64', 'Cash': 'float64', 'Other_Current_Assets': 'float64', 'Increase_In_Cash': 'float64', 'Mis_Current_Assets': 'float64', 'Total_Assets': 'float64', 'Total_Current_Liabilities': 'float64', 'Trade_Creditors': 'float64', 'Bank_Overdraft': 'float64', 'Other_Short_Term_Fin': 'float64', 'Mis_Current_Liabilities': 'float64', 'Other_Long_Term_Fin': 'float64', 'Total_Long_Term_Liabilities': 'float64', 'Bank_Overdraft_LTL': 'float64', 'Total_Liabilities': 'float64', 'Net_Assets': 'float64', 'Working_Capital': 'float64', 'Paid_up_equity': 'float64', 'PL_Account_Weserve': 'float64', 'Sundry_Weserves': 'float64', 'Revaluation_Weserve': 'float64', 'Shareholder_Funds': 'float64', 'NetWorth': 'float64', 'NetCashflowfromOperations': 'float64', 'NetCashflowbeforeFinancing': 'float64', 'NetCashflowfromFinancing': 'float64', 'Contingent_Liability': 'float64', 'Capital_Employed': 'float64', 'No_Employees': 'float64', 'status': 'float64', 'UPLOAD': 'str'}\n",
    "AC02_header_names=['AC01', 'REGNUM', 'ACCDAT_start', 'ACCDAT', 'number_of_weeks', 'months', 'currency', 'consolidated', 'acctype', 'Turnover', 'Export', 'Cost_of_Sales', 'Gross_Profit', 'Wages_Salaries', 'Directors_Emoluments', 'Operating_Profits', 'Depreciation', 'Audit_Fees', 'Interest_Payments', 'Pre_Tax_Profit', 'taxation1', 'Profit_After_Tax', 'Dividends_Payable', 'Retained_Profits', 'Tangible_Assets', 'Intangible_Assets', 'Total_Fixed_Assets', 'Total_Current_Assets', 'Trade_Debtors', 'Stock', 'Cash', 'Other_Current_Assets', 'Increase_In_Cash', 'Mis_Current_Assets', 'Total_Assets', 'Total_Current_Liabilities', 'Trade_Creditors', 'Bank_Overdraft', 'Other_Short_Term_Fin', 'Mis_Current_Liabilities', 'Other_Long_Term_Fin', 'Total_Long_Term_Liabilities', 'Bank_Overdraft_LTL', 'Total_Liabilities', 'Net_Assets', 'Working_Capital', 'Paid_up_equity', 'PL_Account_Weserve', 'Sundry_Weserves', 'Revaluation_Weserve', 'Shareholder_Funds', 'NetWorth', 'NetCashflowfromOperations', 'NetCashflowbeforeFinancing', 'NetCashflowfromFinancing', 'Contingent_Liability', 'Capital_Employed', 'No_Employees', 'status', 'UPLOAD']"
   ]
  },
  {
   "cell_type": "markdown",
   "metadata": {},
   "source": [
    "#### Reading sav files"
   ]
  },
  {
   "cell_type": "code",
   "execution_count": 12,
   "metadata": {},
   "outputs": [],
   "source": [
    "df_database=pd.read_spss(\"../UKLTD_Database/AC02_Nk.sav\")"
   ]
  },
  {
   "cell_type": "code",
   "execution_count": 33,
   "metadata": {},
   "outputs": [],
   "source": [
    "header_list=df_database.columns.values"
   ]
  },
  {
   "cell_type": "code",
   "execution_count": 38,
   "metadata": {},
   "outputs": [],
   "source": [
    "header_list_types = dict.fromkeys(header_list, \"float64\")"
   ]
  },
  {
   "cell_type": "code",
   "execution_count": 39,
   "metadata": {},
   "outputs": [
    {
     "name": "stdout",
     "output_type": "stream",
     "text": [
      "{'AC02': 'float64', 'REGNUM': 'float64', 'ACCDAT_start': 'float64', 'ACCDAT': 'float64', 'months': 'float64', 'currency': 'float64', 'consolidated': 'float64', 'Turnover': 'float64', 'Exports': 'float64', 'Cost_of_Sales': 'float64', 'Gross_Profit': 'float64', 'Operating_Profit': 'float64', 'Pre_Tax_Profit': 'float64', 'Tax': 'float64', 'Profit_after_Tax': 'float64', 'Dividends': 'float64', 'Profit_Attributable_to_Minority_Interests': 'float64', 'Other_Appropriations': 'float64', 'Retained_Profit': 'float64', 'Interest_Weceivable': 'float64', 'Bank_Interest_Weceivable': 'float64', 'Group_Interest_Weceivable': 'float64', 'Other_Interest_Weceivable': 'float64', 'Interest_Payable': 'float64', 'Bank_Interest_Payable': 'float64', 'Lease_Interest_Payable': 'float64', 'HP_Interest_Payable': 'float64', 'Other_Interest_Payable': 'float64', 'Directors_Wemuneration': 'float64', 'Director_Fees': 'float64', 'Director_Pensions': 'float64', 'Director_Social_Security': 'float64', 'Director_Other': 'float64', 'Highest_Paid_Director': 'float64', 'Employee_Costs': 'float64', 'Employee_Wemuneration': 'float64', 'Pensions': 'float64', 'Social_Security': 'float64', 'Other': 'float64', 'Employee_Numbers': 'float64', 'Depreciation_of_Tangibles': 'float64', 'Amortisation_of_Intangibles': 'float64', 'Exceptional_Items': 'float64', 'Exceptional_ProfitLoss_on_Weorganisations': 'float64', 'Exceptional_ProfitLoss_on_DisposalAcquisition': 'float64', 'Exceptional_Other_items': 'float64', 'Auditor_Fees': 'float64', 'Statutory_Audit_Costs': 'float64', 'Other_Audit_Costs': 'float64', 'Accountant_Fees': 'float64', 'Tangible_Assets': 'float64', 'Intangible_Assets': 'float64', 'Investment__Other': 'float64', 'Debtors_due_after_one_year': 'float64', 'Total_Fixed_Assets': 'float64', 'StocksWorkinProgress': 'float64', 'Debtors': 'float64', 'Trade_Debtors': 'float64', 'Group_Debtors': 'float64', 'Misc_Debtors': 'float64', 'Cash': 'float64', 'Misc_Current_Assets': 'float64', 'Total_Current_Assets': 'float64', 'Creditors': 'float64', 'Trade_Creditors': 'float64', 'Bank_Overdraft': 'float64', 'Bank_Loan': 'float64', 'Group_Accounts': 'float64', 'Directors_Accounts': 'float64', 'Other_Short_Term_Loans': 'float64', 'Current_Hire_Purchase_Commitments': 'float64', 'Current_Lease_Commitments': 'float64', 'Total_Other_Current_Liabilities': 'float64', 'Current_Tax_Liabilities': 'float64', 'Accruals__Deferred_Income': 'float64', 'Dividends1': 'float64', 'Other_Current_Liabilities': 'float64', 'Total_Current_Liabilities': 'float64', 'Total_Long_Term_Loans': 'float64', 'LT_Bank_Loans': 'float64', 'LT_Group_Accounts': 'float64', 'LT_Directors_Accounts': 'float64', 'LT_Other_LoansFinance': 'float64', 'Total_NonCurrent_HP_Lease_Commitments': 'float64', 'Non_Current_Hire_Purchase_Commitments': 'float64', 'Non_Current_Lease_Commitments': 'float64', 'Net_Pension_Liability': 'float64', 'Total_Other_Non_Current_Liabilities': 'float64', 'Accruals_Deferred_Income_due_after_1_year': 'float64', 'Other_LT_Liabilities': 'float64', 'Total_Provisions': 'float64', 'Deferred_Tax_Liabilities': 'float64', 'Other_Provisions': 'float64', 'Total_Long_Term_Liabilities': 'float64', 'Total_Called_UpIssued_Capital': 'float64', 'Ordinary_Shares': 'float64', 'Preference_Shares': 'float64', 'Other_Shares': 'float64', 'Profit_Loss_Wevenue_Weserve': 'float64', 'Revaluation_Weserve': 'float64', 'Other_Weserves': 'float64', 'Total_Shareholders’_Funds': 'float64', 'Minority_Interests': 'float64', 'Net_Cashflow_from_Operations': 'float64', 'Return_on_Investment': 'float64', 'Taxation': 'float64', 'Capital_Expenditure': 'float64', 'Acquisitions_Disposals': 'float64', 'Equity_Dividends_Paid': 'float64', 'Management_of_Liquid_Wesources': 'float64', 'Net_Cashflow_from_Financing': 'float64', 'Cash_inc_dec': 'float64', 'status': 'float64', 'UPLOAD': 'float64'}\n"
     ]
    }
   ],
   "source": [
    "print(header_list_types)"
   ]
  },
  {
   "cell_type": "code",
   "execution_count": null,
   "metadata": {},
   "outputs": [],
   "source": []
  }
 ],
 "metadata": {
  "kernelspec": {
   "display_name": "Python 3",
   "language": "python",
   "name": "python3"
  },
  "language_info": {
   "codemirror_mode": {
    "name": "ipython",
    "version": 3
   },
   "file_extension": ".py",
   "mimetype": "text/x-python",
   "name": "python",
   "nbconvert_exporter": "python",
   "pygments_lexer": "ipython3",
   "version": "3.8.5"
  }
 },
 "nbformat": 4,
 "nbformat_minor": 4
}
