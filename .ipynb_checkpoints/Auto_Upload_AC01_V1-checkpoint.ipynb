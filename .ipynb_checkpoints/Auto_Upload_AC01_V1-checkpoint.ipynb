{
 "cells": [
  {
   "cell_type": "markdown",
   "metadata": {},
   "source": [
    "#### Description"
   ]
  },
  {
   "cell_type": "code",
   "execution_count": 2,
   "metadata": {},
   "outputs": [
    {
     "name": "stdout",
     "output_type": "stream",
     "text": [
      "Author:  Leo Pauly (cnlp@leeds.ac.uk) & Nick Wilson (n.wilson@lubs.leeds.ac.uk)\n",
      "Description: Autmatic database update\n"
     ]
    }
   ],
   "source": [
    "print('Author:  Leo Pauly (cnlp@leeds.ac.uk) & Nick Wilson (n.wilson@lubs.leeds.ac.uk)')\n",
    "print('Description: Autmatic database update')"
   ]
  },
  {
   "cell_type": "markdown",
   "metadata": {},
   "source": [
    "#### Usage intructions & Other info"
   ]
  },
  {
   "cell_type": "markdown",
   "metadata": {},
   "source": [
    "1. Give absolute file paths always\n",
    "2. Assumed that new entry directory names always start with UKLTD_R_ or UKLTD_W_\n",
    "3. File dir_list.txt contains the processed directory list\n",
    "4. Prefefably install python using anacodna (all in one installation): https://www.anaconda.com/products/individual#windows\n",
    "5. Run this if 'pyreadstat module is missing':  !pip install pyreadstat \n",
    "6. Need only change base directory in most of the case\n",
    "7. Databases are stored in the directory (Create one if missing) : UKLTD_Database\n",
    "8. Select user (options: 'leo','nick')\n",
    "9. "
   ]
  },
  {
   "cell_type": "markdown",
   "metadata": {},
   "source": [
    "#### Imports"
   ]
  },
  {
   "cell_type": "code",
   "execution_count": 3,
   "metadata": {},
   "outputs": [
    {
     "name": "stdout",
     "output_type": "stream",
     "text": [
      "python version 3.8.5 (default, Sep  3 2020, 21:29:08) [MSC v.1916 64 bit (AMD64)]\n"
     ]
    }
   ],
   "source": [
    "import psutil\n",
    "import os\n",
    "import sys\n",
    "print('python version',sys.version)\n",
    "import pandas as pd\n",
    "import numpy as np\n",
    "import pyreadstat\n",
    "import dask\n",
    "AC01_header=['AC01', 'REGNUM', 'ACCDAT_start', 'ACCDAT', 'number_of_weeks', 'months',\n",
    "       'currency', 'consolidated', 'acctype', 'Turnover', 'Export',\n",
    "       'Cost_of_Sales', 'Gross_Profit', 'Wages_Salaries',\n",
    "       'Directors_Emoluments', 'Operating_Profits', 'Depreciation',\n",
    "       'Audit_Fees', 'Interest_Payments', 'Pre_Tax_Profit', 'taxation1',\n",
    "       'Profit_After_Tax', 'Dividends_Payable', 'Retained_Profits',\n",
    "       'Tangible_Assets', 'Intangible_Assets', 'Total_Fixed_Assets',\n",
    "       'Total_Current_Assets', 'Trade_Debtors', 'Stock', 'Cash',\n",
    "       'Other_Current_Assets', 'Increase_In_Cash', 'Mis_Current_Assets',\n",
    "       'Total_Assets', 'Total_Current_Liabilities', 'Trade_Creditors',\n",
    "       'Bank_Overdraft', 'Other_Short_Term_Fin', 'Mis_Current_Liabilities',\n",
    "       'Other_Long_Term_Fin', 'Total_Long_Term_Liabilities',\n",
    "       'Bank_Overdraft_LTL', 'Total_Liabilities', 'Net_Assets',\n",
    "       'Working_Capital', 'Paid_up_equity', 'PL_Account_Weserve',\n",
    "       'Sundry_Weserves', 'Revaluation_Weserve', 'Shareholder_Funds',\n",
    "       'NetWorth', 'NetCashflowfromOperations', 'NetCashflowbeforeFinancing',\n",
    "       'NetCashflowfromFinancing', 'Contingent_Liability', 'Capital_Employed',\n",
    "       'No_Employees', 'status', 'UPLOAD']"
   ]
  },
  {
   "cell_type": "markdown",
   "metadata": {},
   "source": [
    "#### Checking new entries"
   ]
  },
  {
   "cell_type": "code",
   "execution_count": 4,
   "metadata": {},
   "outputs": [
    {
     "name": "stdout",
     "output_type": "stream",
     "text": [
      "List of processed directores:\n",
      "\n",
      "UKLTD_R_20190602\n",
      "UKLTD_W_20190601\n",
      "UKLTD_W_20190609\n",
      "UKLTD_W_20190610\n",
      "\n",
      "New entries detected:\n"
     ]
    }
   ],
   "source": [
    "## Checking for new download\n",
    "with open(r'\\\\ds.leeds.ac.uk\\student\\student13\\cnlp\\Research Fellowship\\UKLTD_Scripts\\dir_list.txt', 'a+') as fd:\n",
    "    fd.seek(0)\n",
    "    dir_list_old=fd.read().split('\\n')\n",
    "   \n",
    "print('List of processed directores:',*dir_list_old,sep='\\n')\n",
    "dir_list_new=[dir_name for dir_name in os.listdir(\"\\\\\\ds.leeds.ac.uk\\student\\student13\\cnlp\\Research Fellowship\") if (dir_name.startswith(\"UKLTD_W\") or dir_name.startswith(\"UKLTD_R\"))]\n",
    "#print (*dir_list_new,sep='\\n')\n",
    "entry_dir_list=[entry_dir for entry_dir in dir_list_new if entry_dir not in dir_list_old ]\n",
    "print('\\nNew entries detected:',*entry_dir_list,sep='\\n')"
   ]
  },
  {
   "cell_type": "markdown",
   "metadata": {},
   "source": [
    "#### Creating/Loading database "
   ]
  },
  {
   "cell_type": "code",
   "execution_count": 17,
   "metadata": {},
   "outputs": [
    {
     "name": "stdout",
     "output_type": "stream",
     "text": [
      "Database not found. Creating database: \n",
      "\n"
     ]
    },
    {
     "data": {
      "text/html": [
       "<div>\n",
       "<style scoped>\n",
       "    .dataframe tbody tr th:only-of-type {\n",
       "        vertical-align: middle;\n",
       "    }\n",
       "\n",
       "    .dataframe tbody tr th {\n",
       "        vertical-align: top;\n",
       "    }\n",
       "\n",
       "    .dataframe thead th {\n",
       "        text-align: right;\n",
       "    }\n",
       "</style>\n",
       "<table border=\"1\" class=\"dataframe\">\n",
       "  <thead>\n",
       "    <tr style=\"text-align: right;\">\n",
       "      <th></th>\n",
       "      <th>AC01</th>\n",
       "      <th>REGNUM</th>\n",
       "      <th>ACCDAT_start</th>\n",
       "      <th>ACCDAT</th>\n",
       "      <th>number_of_weeks</th>\n",
       "      <th>months</th>\n",
       "      <th>currency</th>\n",
       "      <th>consolidated</th>\n",
       "      <th>acctype</th>\n",
       "      <th>Turnover</th>\n",
       "      <th>...</th>\n",
       "      <th>Shareholder_Funds</th>\n",
       "      <th>NetWorth</th>\n",
       "      <th>NetCashflowfromOperations</th>\n",
       "      <th>NetCashflowbeforeFinancing</th>\n",
       "      <th>NetCashflowfromFinancing</th>\n",
       "      <th>Contingent_Liability</th>\n",
       "      <th>Capital_Employed</th>\n",
       "      <th>No_Employees</th>\n",
       "      <th>status</th>\n",
       "      <th>UPLOAD</th>\n",
       "    </tr>\n",
       "  </thead>\n",
       "  <tbody>\n",
       "  </tbody>\n",
       "</table>\n",
       "<p>0 rows × 60 columns</p>\n",
       "</div>"
      ],
      "text/plain": [
       "Empty DataFrame\n",
       "Columns: [AC01, REGNUM, ACCDAT_start, ACCDAT, number_of_weeks, months, currency, consolidated, acctype, Turnover, Export, Cost_of_Sales, Gross_Profit, Wages_Salaries, Directors_Emoluments, Operating_Profits, Depreciation, Audit_Fees, Interest_Payments, Pre_Tax_Profit, taxation1, Profit_After_Tax, Dividends_Payable, Retained_Profits, Tangible_Assets, Intangible_Assets, Total_Fixed_Assets, Total_Current_Assets, Trade_Debtors, Stock, Cash, Other_Current_Assets, Increase_In_Cash, Mis_Current_Assets, Total_Assets, Total_Current_Liabilities, Trade_Creditors, Bank_Overdraft, Other_Short_Term_Fin, Mis_Current_Liabilities, Other_Long_Term_Fin, Total_Long_Term_Liabilities, Bank_Overdraft_LTL, Total_Liabilities, Net_Assets, Working_Capital, Paid_up_equity, PL_Account_Weserve, Sundry_Weserves, Revaluation_Weserve, Shareholder_Funds, NetWorth, NetCashflowfromOperations, NetCashflowbeforeFinancing, NetCashflowfromFinancing, Contingent_Liability, Capital_Employed, No_Employees, status, UPLOAD]\n",
       "Index: []\n",
       "\n",
       "[0 rows x 60 columns]"
      ]
     },
     "execution_count": 17,
     "metadata": {},
     "output_type": "execute_result"
    }
   ],
   "source": [
    "#!pip install pyreadstat #Run this if 'pyreadstat module is missing'\n",
    "database_file=(r\"\\\\ds.leeds.ac.uk\\student\\student13\\cnlp\\Research Fellowship\\UKLTD_Database\\AC01.sav\")\n",
    "if (os.path.isfile(database_file)):\n",
    "    print('Database found.','Reading database: \\n')\n",
    "    df_database=pd.read_spss(database_file)\n",
    "else:\n",
    "    print('Database not found.','Creating database: \\n')\n",
    "    df_database=pd.DataFrame(columns=AC01_header)\n",
    "    \n",
    "df_database"
   ]
  },
  {
   "cell_type": "code",
   "execution_count": 18,
   "metadata": {},
   "outputs": [
    {
     "name": "stdout",
     "output_type": "stream",
     "text": [
      "Number of variables: 60 \n",
      "Variables names:\n",
      " Index(['AC01', 'REGNUM', 'ACCDAT_start', 'ACCDAT', 'number_of_weeks', 'months',\n",
      "       'currency', 'consolidated', 'acctype', 'Turnover', 'Export',\n",
      "       'Cost_of_Sales', 'Gross_Profit', 'Wages_Salaries',\n",
      "       'Directors_Emoluments', 'Operating_Profits', 'Depreciation',\n",
      "       'Audit_Fees', 'Interest_Payments', 'Pre_Tax_Profit', 'taxation1',\n",
      "       'Profit_After_Tax', 'Dividends_Payable', 'Retained_Profits',\n",
      "       'Tangible_Assets', 'Intangible_Assets', 'Total_Fixed_Assets',\n",
      "       'Total_Current_Assets', 'Trade_Debtors', 'Stock', 'Cash',\n",
      "       'Other_Current_Assets', 'Increase_In_Cash', 'Mis_Current_Assets',\n",
      "       'Total_Assets', 'Total_Current_Liabilities', 'Trade_Creditors',\n",
      "       'Bank_Overdraft', 'Other_Short_Term_Fin', 'Mis_Current_Liabilities',\n",
      "       'Other_Long_Term_Fin', 'Total_Long_Term_Liabilities',\n",
      "       'Bank_Overdraft_LTL', 'Total_Liabilities', 'Net_Assets',\n",
      "       'Working_Capital', 'Paid_up_equity', 'PL_Account_Weserve',\n",
      "       'Sundry_Weserves', 'Revaluation_Weserve', 'Shareholder_Funds',\n",
      "       'NetWorth', 'NetCashflowfromOperations', 'NetCashflowbeforeFinancing',\n",
      "       'NetCashflowfromFinancing', 'Contingent_Liability', 'Capital_Employed',\n",
      "       'No_Employees', 'status', 'UPLOAD'],\n",
      "      dtype='object')\n"
     ]
    }
   ],
   "source": [
    "print('Number of variables:',len(df_database.columns),'\\nVariables names:\\n', df_database.columns)"
   ]
  },
  {
   "cell_type": "markdown",
   "metadata": {},
   "source": [
    "#### Updating database"
   ]
  },
  {
   "cell_type": "markdown",
   "metadata": {},
   "source": [
    "Rules:\n",
    "\n",
    "1. Check for fields:REG\n",
    "2. If they exist update ?? \n",
    "3. If not: add as new row in database"
   ]
  },
  {
   "cell_type": "code",
   "execution_count": 19,
   "metadata": {},
   "outputs": [],
   "source": [
    "def update_database(entry_dir):\n",
    "    global df_database\n",
    "    entry_file=\"AC01_\"+(entry_dir.split('_')[-2])+\"_\"+(entry_dir.split('_')[-1])+\".txt\"\n",
    "    print('Entry file:',entry_file)\n",
    "    df_entry_file=pd.read_csv(r\"\\\\ds.leeds.ac.uk\\student\\student13\\cnlp\\Research Fellowship\\%s\\\\\"%entry_dir+entry_file,sep='|',names=AC01_header)\n",
    "    df_entry_file['UPLOAD']=entry_file.split('.')[0]\n",
    "    for idx,entry_row in df_entry_file.iterrows():\n",
    "        database_row=df_database.loc[df_database['REGNUM']==entry_row['REGNUM']]\n",
    "        if(entry_row['REGNUM'] not in df_database['REGNUM'].unique()):\n",
    "            df_database=df_database.append(entry_row,ignore_index=True)\n",
    "        elif(entry_row.equals(other=database_row)):\n",
    "            df_database=df_database.append(entry_row,ignore_index=True)\n",
    "    return True"
   ]
  },
  {
   "cell_type": "code",
   "execution_count": 20,
   "metadata": {},
   "outputs": [
    {
     "name": "stdout",
     "output_type": "stream",
     "text": [
      "\n",
      "Reading from entry dir: UKLTD_R_20190602\n",
      "Entry file: AC01_R_20190602.txt\n",
      "Update Success: True\n",
      "\n",
      "Reading from entry dir: UKLTD_W_20190601\n",
      "Entry file: AC01_W_20190601.txt\n",
      "Update Success: True\n",
      "\n",
      "Reading from entry dir: UKLTD_W_20190609\n",
      "Entry file: AC01_W_20190609.txt\n",
      "Update Success: True\n",
      "\n",
      "Reading from entry dir: UKLTD_W_20190610\n",
      "Entry file: AC01_W_20190610.txt\n",
      "Update Success: True\n"
     ]
    }
   ],
   "source": [
    "## Reading from new directory\n",
    "for entry_dir in entry_dir_list:\n",
    "    print('\\nReading from entry dir:',entry_dir)\n",
    "    print('Update Success:',update_database(entry_dir))"
   ]
  },
  {
   "cell_type": "code",
   "execution_count": 21,
   "metadata": {},
   "outputs": [
    {
     "data": {
      "text/html": [
       "<div>\n",
       "<style scoped>\n",
       "    .dataframe tbody tr th:only-of-type {\n",
       "        vertical-align: middle;\n",
       "    }\n",
       "\n",
       "    .dataframe tbody tr th {\n",
       "        vertical-align: top;\n",
       "    }\n",
       "\n",
       "    .dataframe thead th {\n",
       "        text-align: right;\n",
       "    }\n",
       "</style>\n",
       "<table border=\"1\" class=\"dataframe\">\n",
       "  <thead>\n",
       "    <tr style=\"text-align: right;\">\n",
       "      <th></th>\n",
       "      <th>AC01</th>\n",
       "      <th>REGNUM</th>\n",
       "      <th>ACCDAT_start</th>\n",
       "      <th>ACCDAT</th>\n",
       "      <th>number_of_weeks</th>\n",
       "      <th>months</th>\n",
       "      <th>currency</th>\n",
       "      <th>consolidated</th>\n",
       "      <th>acctype</th>\n",
       "      <th>Turnover</th>\n",
       "      <th>...</th>\n",
       "      <th>Shareholder_Funds</th>\n",
       "      <th>NetWorth</th>\n",
       "      <th>NetCashflowfromOperations</th>\n",
       "      <th>NetCashflowbeforeFinancing</th>\n",
       "      <th>NetCashflowfromFinancing</th>\n",
       "      <th>Contingent_Liability</th>\n",
       "      <th>Capital_Employed</th>\n",
       "      <th>No_Employees</th>\n",
       "      <th>status</th>\n",
       "      <th>UPLOAD</th>\n",
       "    </tr>\n",
       "  </thead>\n",
       "  <tbody>\n",
       "    <tr>\n",
       "      <th>0</th>\n",
       "      <td>AC01</td>\n",
       "      <td>5263</td>\n",
       "      <td>01/04/2017</td>\n",
       "      <td>31/03/2018</td>\n",
       "      <td>52</td>\n",
       "      <td>12</td>\n",
       "      <td>GBP</td>\n",
       "      <td>N</td>\n",
       "      <td>1</td>\n",
       "      <td>NaN</td>\n",
       "      <td>...</td>\n",
       "      <td>1</td>\n",
       "      <td>1</td>\n",
       "      <td>NaN</td>\n",
       "      <td>0</td>\n",
       "      <td>NaN</td>\n",
       "      <td>0</td>\n",
       "      <td>1</td>\n",
       "      <td>NaN</td>\n",
       "      <td>4</td>\n",
       "      <td>AC01_R_20190602</td>\n",
       "    </tr>\n",
       "    <tr>\n",
       "      <th>1</th>\n",
       "      <td>AC01</td>\n",
       "      <td>24869</td>\n",
       "      <td>01/01/2017</td>\n",
       "      <td>31/12/2017</td>\n",
       "      <td>52</td>\n",
       "      <td>12</td>\n",
       "      <td>GBP</td>\n",
       "      <td>Y</td>\n",
       "      <td>4</td>\n",
       "      <td>342305000.0</td>\n",
       "      <td>...</td>\n",
       "      <td>592473000</td>\n",
       "      <td>564043000</td>\n",
       "      <td>43351000.0</td>\n",
       "      <td>40630000</td>\n",
       "      <td>-35591000.0</td>\n",
       "      <td>0</td>\n",
       "      <td>636447000</td>\n",
       "      <td>1066.0</td>\n",
       "      <td>1</td>\n",
       "      <td>AC01_R_20190602</td>\n",
       "    </tr>\n",
       "    <tr>\n",
       "      <th>2</th>\n",
       "      <td>AC01</td>\n",
       "      <td>866</td>\n",
       "      <td>01/01/2017</td>\n",
       "      <td>31/12/2017</td>\n",
       "      <td>52</td>\n",
       "      <td>12</td>\n",
       "      <td>GBP</td>\n",
       "      <td>N</td>\n",
       "      <td>1</td>\n",
       "      <td>0.0</td>\n",
       "      <td>...</td>\n",
       "      <td>859000</td>\n",
       "      <td>859000</td>\n",
       "      <td>NaN</td>\n",
       "      <td>0</td>\n",
       "      <td>NaN</td>\n",
       "      <td>0</td>\n",
       "      <td>859000</td>\n",
       "      <td>NaN</td>\n",
       "      <td>1</td>\n",
       "      <td>AC01_W_20190601</td>\n",
       "    </tr>\n",
       "    <tr>\n",
       "      <th>3</th>\n",
       "      <td>AC01</td>\n",
       "      <td>7796</td>\n",
       "      <td>01/01/2017</td>\n",
       "      <td>31/12/2017</td>\n",
       "      <td>52</td>\n",
       "      <td>12</td>\n",
       "      <td>GBP</td>\n",
       "      <td>N</td>\n",
       "      <td>1</td>\n",
       "      <td>NaN</td>\n",
       "      <td>...</td>\n",
       "      <td>4177643</td>\n",
       "      <td>4177643</td>\n",
       "      <td>NaN</td>\n",
       "      <td>0</td>\n",
       "      <td>NaN</td>\n",
       "      <td>0</td>\n",
       "      <td>4340693</td>\n",
       "      <td>76.0</td>\n",
       "      <td>1</td>\n",
       "      <td>AC01_W_20190601</td>\n",
       "    </tr>\n",
       "    <tr>\n",
       "      <th>4</th>\n",
       "      <td>AC01</td>\n",
       "      <td>836</td>\n",
       "      <td>01/01/2017</td>\n",
       "      <td>31/12/2017</td>\n",
       "      <td>52</td>\n",
       "      <td>12</td>\n",
       "      <td>GBP</td>\n",
       "      <td>N</td>\n",
       "      <td>1</td>\n",
       "      <td>0.0</td>\n",
       "      <td>...</td>\n",
       "      <td>859000</td>\n",
       "      <td>859000</td>\n",
       "      <td>NaN</td>\n",
       "      <td>0</td>\n",
       "      <td>NaN</td>\n",
       "      <td>0</td>\n",
       "      <td>859000</td>\n",
       "      <td>NaN</td>\n",
       "      <td>1</td>\n",
       "      <td>AC01_W_20190610</td>\n",
       "    </tr>\n",
       "  </tbody>\n",
       "</table>\n",
       "<p>5 rows × 60 columns</p>\n",
       "</div>"
      ],
      "text/plain": [
       "   AC01 REGNUM ACCDAT_start      ACCDAT number_of_weeks months currency  \\\n",
       "0  AC01   5263   01/04/2017  31/03/2018              52     12      GBP   \n",
       "1  AC01  24869   01/01/2017  31/12/2017              52     12      GBP   \n",
       "2  AC01    866   01/01/2017  31/12/2017              52     12      GBP   \n",
       "3  AC01   7796   01/01/2017  31/12/2017              52     12      GBP   \n",
       "4  AC01    836   01/01/2017  31/12/2017              52     12      GBP   \n",
       "\n",
       "  consolidated acctype     Turnover  ...  Shareholder_Funds   NetWorth  \\\n",
       "0            N       1          NaN  ...                  1          1   \n",
       "1            Y       4  342305000.0  ...          592473000  564043000   \n",
       "2            N       1          0.0  ...             859000     859000   \n",
       "3            N       1          NaN  ...            4177643    4177643   \n",
       "4            N       1          0.0  ...             859000     859000   \n",
       "\n",
       "   NetCashflowfromOperations  NetCashflowbeforeFinancing  \\\n",
       "0                        NaN                           0   \n",
       "1                 43351000.0                    40630000   \n",
       "2                        NaN                           0   \n",
       "3                        NaN                           0   \n",
       "4                        NaN                           0   \n",
       "\n",
       "   NetCashflowfromFinancing  Contingent_Liability Capital_Employed  \\\n",
       "0                       NaN                     0                1   \n",
       "1               -35591000.0                     0        636447000   \n",
       "2                       NaN                     0           859000   \n",
       "3                       NaN                     0          4340693   \n",
       "4                       NaN                     0           859000   \n",
       "\n",
       "  No_Employees  status           UPLOAD  \n",
       "0          NaN       4  AC01_R_20190602  \n",
       "1       1066.0       1  AC01_R_20190602  \n",
       "2          NaN       1  AC01_W_20190601  \n",
       "3         76.0       1  AC01_W_20190601  \n",
       "4          NaN       1  AC01_W_20190610  \n",
       "\n",
       "[5 rows x 60 columns]"
      ]
     },
     "execution_count": 21,
     "metadata": {},
     "output_type": "execute_result"
    }
   ],
   "source": [
    "df_database\n"
   ]
  },
  {
   "cell_type": "code",
   "execution_count": 22,
   "metadata": {},
   "outputs": [],
   "source": [
    "## Writing updated databse to file\n",
    "df_database=pyreadstat.write_sav(df_database,database_file)"
   ]
  },
  {
   "cell_type": "code",
   "execution_count": 23,
   "metadata": {},
   "outputs": [],
   "source": [
    "## Update processed directory list\n",
    "with open(r\"\\\\ds.leeds.ac.uk\\student\\student13\\cnlp\\Research Fellowship\\UKLTD_Scripts\\dir_list.txt\", 'w') as fd:\n",
    "    fd.write('\\n'.join(dir_list_old+entry_dir_list))"
   ]
  },
  {
   "cell_type": "code",
   "execution_count": null,
   "metadata": {},
   "outputs": [],
   "source": []
  },
  {
   "cell_type": "code",
   "execution_count": null,
   "metadata": {},
   "outputs": [],
   "source": []
  }
 ],
 "metadata": {
  "kernelspec": {
   "display_name": "Python 3",
   "language": "python",
   "name": "python3"
  },
  "language_info": {
   "codemirror_mode": {
    "name": "ipython",
    "version": 3
   },
   "file_extension": ".py",
   "mimetype": "text/x-python",
   "name": "python",
   "nbconvert_exporter": "python",
   "pygments_lexer": "ipython3",
   "version": "3.8.5"
  }
 },
 "nbformat": 4,
 "nbformat_minor": 4
}
