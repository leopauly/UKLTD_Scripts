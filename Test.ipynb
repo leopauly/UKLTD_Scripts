{
 "cells": [
  {
   "cell_type": "code",
   "execution_count": null,
   "metadata": {},
   "outputs": [],
   "source": [
    "import matplotlib.pyplot as plt\n",
    "import numpy as np\n",
    "\n",
    "# use ggplot style for more sophisticated visuals\n",
    "plt.style.use('ggplot')\n",
    "\n",
    "def live_plotter(x_vec,y1_data,line1,identifier='',pause_time=0.1):\n",
    "    if line1==[]:\n",
    "        # this is the call to matplotlib that allows dynamic plotting\n",
    "        plt.ion()\n",
    "        fig = plt.figure(figsize=(13,6))\n",
    "        ax = fig.add_subplot(111)\n",
    "        # create a variable for the line so we can later update it\n",
    "        line1, = ax.plot(x_vec,y1_data,'-o',alpha=0.8)        \n",
    "        #update plot label/title\n",
    "        plt.ylabel('Y Label')\n",
    "        plt.title('Title: {}'.format(identifier))\n",
    "        plt.show()\n",
    "    \n",
    "    # after the figure, axis, and line are created, we only need to update the y-data\n",
    "    line1.set_ydata(y1_data)\n",
    "    # adjust limits if new data goes beyond bounds\n",
    "    if np.min(y1_data)<=line1.axes.get_ylim()[0] or np.max(y1_data)>=line1.axes.get_ylim()[1]:\n",
    "        plt.ylim([np.min(y1_data)-np.std(y1_data),np.max(y1_data)+np.std(y1_data)])\n",
    "    # this pauses the data so the figure/axis can catch up - the amount of pause can be altered above\n",
    "    plt.pause(pause_time)\n",
    "    \n",
    "    # return line so we can update it again in the next iteration\n",
    "    return line1"
   ]
  }
 ],
 "metadata": {
  "kernelspec": {
   "display_name": "Python 3",
   "language": "python",
   "name": "python3"
  },
  "language_info": {
   "codemirror_mode": {
    "name": "ipython",
    "version": 3
   },
   "file_extension": ".py",
   "mimetype": "text/x-python",
   "name": "python",
   "nbconvert_exporter": "python",
   "pygments_lexer": "ipython3",
   "version": "3.8.5"
  }
 },
 "nbformat": 4,
 "nbformat_minor": 4
}
