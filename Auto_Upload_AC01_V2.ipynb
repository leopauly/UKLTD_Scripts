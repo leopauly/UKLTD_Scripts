{
 "cells": [
  {
   "cell_type": "markdown",
   "metadata": {},
   "source": [
    "#### Description"
   ]
  },
  {
   "cell_type": "code",
   "execution_count": 1,
   "metadata": {},
   "outputs": [],
   "source": [
    "print('Author:  Leo Pauly (cnlp@leeds.ac.uk) & Nick Wilson (n.wilson@lubs.leeds.ac.uk)')\n",
    "print('Description: Autmatic database update')"
   ]
  },
  {
   "cell_type": "markdown",
   "metadata": {},
   "source": [
    "#### Usage intructions & Other info"
   ]
  },
  {
   "cell_type": "markdown",
   "metadata": {},
   "source": [
    "1. Give absolute file paths always\n",
    "2. Assumed that new entry directory names always start with UKLTD_R_ or UKLTD_W_\n",
    "3. File dir_list.txt contains the processed directory list\n",
    "4. Prefefably install python using anacodna (all in one installation): https://www.anaconda.com/products/individual#windows\n",
    "5. Run this if 'pyreadstat' module is missing':  !pip install pyreadstat \n",
    "6. Need only change base directory in most of the case\n",
    "7. Databases are stored in the directory (Create one if missing) : UKLTD_Database\n",
    "8. Select user (user variable options: 'leo','nick')\n",
    "9. Run this if 'patool' module is missing':  !pip install patool pyunpack"
   ]
  },
  {
   "cell_type": "markdown",
   "metadata": {},
   "source": [
    "#### Imports"
   ]
  },
  {
   "cell_type": "code",
   "execution_count": 2,
   "metadata": {},
   "outputs": [
    {
     "name": "stdout",
     "output_type": "stream",
     "text": [
      "Info:\n",
      "Python version: 3.8.5 (default, Sep  3 2020, 21:29:08) [MSC v.1916 64 bit (AMD64)]\n",
      "No: of logical processors: 8\n"
     ]
    }
   ],
   "source": [
    "import os\n",
    "import sys\n",
    "import pandas as pd\n",
    "import numpy as np\n",
    "import pyreadstat\n",
    "from zipfile import ZipFile\n",
    "import pyunpack\n",
    "import multiprocessing\n",
    "import dask.dataframe as dd\n",
    "import time\n",
    "from dask.diagnostics import ProgressBar\n",
    "from dask.distributed import Client\n",
    "\n",
    "\n",
    "print('Info:')\n",
    "print('Python version:',sys.version)\n",
    "num_processes = multiprocessing.cpu_count()\n",
    "print('No: of logical processors:',num_processes)\n",
    "\n",
    "AC01_header={'AC01': 'string', 'REGNUM':'float64' , 'ACCDAT_start': 'string', 'ACCDAT': 'string', 'number_of_weeks': 'string', 'months': 'string',\n",
    "       'currency': 'string', 'consolidated': 'string', 'acctype': 'float64', 'Turnover': 'float64', 'Export': 'float64',\n",
    "       'Cost_of_Sales': 'float64', 'Gross_Profit': 'float64', 'Wages_Salaries': 'float64',\n",
    "       'Directors_Emoluments': 'float64', 'Operating_Profits': 'float64', 'Depreciation': 'float64',\n",
    "       'Audit_Fees': 'float64', 'Interest_Payments': 'float64', 'Pre_Tax_Profit': 'float64', 'taxation1': 'float64',\n",
    "       'Profit_After_Tax': 'float64', 'Dividends_Payable': 'float64', 'Retained_Profits': 'float64',\n",
    "       'Tangible_Assets': 'float64', 'Intangible_Assets': 'float64', 'Total_Fixed_Assets': 'float64',\n",
    "       'Total_Current_Assets': 'float64', 'Trade_Debtors': 'float64', 'Stock': 'float64', 'Cash': 'float64',\n",
    "       'Other_Current_Assets': 'float64', 'Increase_In_Cash': 'float64', 'Mis_Current_Assets': 'float64',\n",
    "       'Total_Assets': 'float64', 'Total_Current_Liabilities': 'float64', 'Trade_Creditors': 'float64',\n",
    "       'Bank_Overdraft': 'float64', 'Other_Short_Term_Fin': 'float64', 'Mis_Current_Liabilities': 'float64',\n",
    "       'Other_Long_Term_Fin': 'float64', 'Total_Long_Term_Liabilities': 'float64',\n",
    "       'Bank_Overdraft_LTL': 'float64', 'Total_Liabilities': 'float64', 'Net_Assets': 'float64',\n",
    "       'Working_Capital': 'float64', 'Paid_up_equity': 'float64', 'PL_Account_Weserve': 'float64',\n",
    "       'Sundry_Weserves': 'float64', 'Revaluation_Weserve': 'float64', 'Shareholder_Funds': 'float64',\n",
    "       'NetWorth': 'float64', 'NetCashflowfromOperations': 'float64', 'NetCashflowbeforeFinancing': 'float64',\n",
    "       'NetCashflowfromFinancing': 'float64', 'Contingent_Liability': 'float64', 'Capital_Employed': 'float64',\n",
    "       'No_Employees': 'float64', 'status': 'float64', 'UPLOAD':'string'}\n",
    "\n",
    "AC01_header_names=list(AC01_header.keys())\n",
    "AC01_header_dtypes={'Bank_Overdraft': 'float64',\n",
    "       'Bank_Overdraft_LTL': 'float64',\n",
    "       'Capital_Employed': 'float64',\n",
    "       'Mis_Current_Assets': 'float64',\n",
    "       'NetCashflowbeforeFinancing': 'float64',\n",
    "       'NetWorth': 'float64',\n",
    "       'Net_Assets': 'float64',\n",
    "       'REGNUM': 'object',\n",
    "       'Tangible_Assets': 'float64',\n",
    "       'acctype': 'float64',\n",
    "       'status': 'float64'}#list(AC01_header.values())"
   ]
  },
  {
   "cell_type": "code",
   "execution_count": 3,
   "metadata": {},
   "outputs": [],
   "source": [
    "## Selectting user and adding filepaths\n",
    "user='leo'\n",
    "if(user=='leo'):\n",
    "    base_dir='C:/Users/cnlp/Research Fellowship/'\n",
    "    dir_list_file=base_dir+'/UKLTD_Scripts/dir_list.txt'\n",
    "    database_file=base_dir+'UKLTD_Database/AC01.csv'"
   ]
  },
  {
   "cell_type": "code",
   "execution_count": 4,
   "metadata": {},
   "outputs": [],
   "source": [
    "## Monitering\n",
    "#client = Client()"
   ]
  },
  {
   "cell_type": "markdown",
   "metadata": {},
   "source": [
    "#### Checking new entries"
   ]
  },
  {
   "cell_type": "code",
   "execution_count": 5,
   "metadata": {},
   "outputs": [
    {
     "name": "stdout",
     "output_type": "stream",
     "text": [
      "List of processed directores:\n",
      "\n",
      "\n",
      "New entries detected:\n",
      "UKLTD_W_20190602\n"
     ]
    }
   ],
   "source": [
    "## Checking for new download\n",
    "with open(dir_list_file, 'a+') as fd:\n",
    "    fd.seek(0)\n",
    "    dir_list_old=fd.read().split('\\n')\n",
    "\n",
    "print('List of processed directores:',*dir_list_old,sep='\\n')\n",
    "dir_list_new=[dir_name for dir_name in os.listdir(base_dir) if (dir_name.startswith(\"UKLTD_W\") or dir_name.startswith(\"UKLTD_R\"))]\n",
    "entry_dir_list=[entry_dir for entry_dir in dir_list_new if entry_dir not in dir_list_old ]\n",
    "print('\\nNew entries detected:',*entry_dir_list,sep='\\n')"
   ]
  },
  {
   "cell_type": "markdown",
   "metadata": {},
   "source": [
    "#### Creating/Loading database "
   ]
  },
  {
   "cell_type": "raw",
   "metadata": {},
   "source": [
    "## If databse is in .sav format \n",
    "if (os.path.isfile(database_file)):\n",
    "    print('Database found.','Reading database! \\n') \n",
    "    start = time.process_time()\n",
    "    df_database_, meta_df_database_ = pyreadstat.read_file_multiprocessing(pyreadstat.read_sav, database_file)    \n",
    "    print('Time taken to read database {}:'.format(database_file.split('/')[-1]),time.process_time() - start,'s')\n",
    "else:\n",
    "    print('Database not found.','Creating database! \\n')\n",
    "    df_database_=pd.DataFrame(columns=AC01_header)\n",
    "    \n",
    "print('Current database size:',df_database_.shape)\n",
    "df_database=dd.from_pandas(df_database_,npartitions=1)\n",
    "print('Current database size:',df_database.shape)"
   ]
  },
  {
   "cell_type": "code",
   "execution_count": 30,
   "metadata": {},
   "outputs": [
    {
     "name": "stdout",
     "output_type": "stream",
     "text": [
      "Database found. Reading database! \n",
      "\n",
      "Time taken to read database AC01.csv: 0.015625 s\n"
     ]
    },
    {
     "data": {
      "text/html": [
       "<div><strong>Dask DataFrame Structure:</strong></div>\n",
       "<div>\n",
       "<style scoped>\n",
       "    .dataframe tbody tr th:only-of-type {\n",
       "        vertical-align: middle;\n",
       "    }\n",
       "\n",
       "    .dataframe tbody tr th {\n",
       "        vertical-align: top;\n",
       "    }\n",
       "\n",
       "    .dataframe thead th {\n",
       "        text-align: right;\n",
       "    }\n",
       "</style>\n",
       "<table border=\"1\" class=\"dataframe\">\n",
       "  <thead>\n",
       "    <tr style=\"text-align: right;\">\n",
       "      <th></th>\n",
       "      <th>Unnamed: 0</th>\n",
       "      <th>AC01</th>\n",
       "      <th>REGNUM</th>\n",
       "      <th>ACCDAT_start</th>\n",
       "      <th>ACCDAT</th>\n",
       "      <th>number_of_weeks</th>\n",
       "      <th>months</th>\n",
       "      <th>currency</th>\n",
       "      <th>consolidated</th>\n",
       "      <th>acctype</th>\n",
       "      <th>Turnover</th>\n",
       "      <th>Export</th>\n",
       "      <th>Cost_of_Sales</th>\n",
       "      <th>Gross_Profit</th>\n",
       "      <th>Wages_Salaries</th>\n",
       "      <th>Directors_Emoluments</th>\n",
       "      <th>Operating_Profits</th>\n",
       "      <th>Depreciation</th>\n",
       "      <th>Audit_Fees</th>\n",
       "      <th>Interest_Payments</th>\n",
       "      <th>Pre_Tax_Profit</th>\n",
       "      <th>taxation1</th>\n",
       "      <th>Profit_After_Tax</th>\n",
       "      <th>Dividends_Payable</th>\n",
       "      <th>Retained_Profits</th>\n",
       "      <th>Tangible_Assets</th>\n",
       "      <th>Intangible_Assets</th>\n",
       "      <th>Total_Fixed_Assets</th>\n",
       "      <th>Total_Current_Assets</th>\n",
       "      <th>Trade_Debtors</th>\n",
       "      <th>Stock</th>\n",
       "      <th>Cash</th>\n",
       "      <th>Other_Current_Assets</th>\n",
       "      <th>Increase_In_Cash</th>\n",
       "      <th>Mis_Current_Assets</th>\n",
       "      <th>Total_Assets</th>\n",
       "      <th>Total_Current_Liabilities</th>\n",
       "      <th>Trade_Creditors</th>\n",
       "      <th>Bank_Overdraft</th>\n",
       "      <th>Other_Short_Term_Fin</th>\n",
       "      <th>Mis_Current_Liabilities</th>\n",
       "      <th>Other_Long_Term_Fin</th>\n",
       "      <th>Total_Long_Term_Liabilities</th>\n",
       "      <th>Bank_Overdraft_LTL</th>\n",
       "      <th>Total_Liabilities</th>\n",
       "      <th>Net_Assets</th>\n",
       "      <th>Working_Capital</th>\n",
       "      <th>Paid_up_equity</th>\n",
       "      <th>PL_Account_Weserve</th>\n",
       "      <th>Sundry_Weserves</th>\n",
       "      <th>Revaluation_Weserve</th>\n",
       "      <th>Shareholder_Funds</th>\n",
       "      <th>NetWorth</th>\n",
       "      <th>NetCashflowfromOperations</th>\n",
       "      <th>NetCashflowbeforeFinancing</th>\n",
       "      <th>NetCashflowfromFinancing</th>\n",
       "      <th>Contingent_Liability</th>\n",
       "      <th>Capital_Employed</th>\n",
       "      <th>No_Employees</th>\n",
       "      <th>status</th>\n",
       "      <th>UPLOAD</th>\n",
       "    </tr>\n",
       "    <tr>\n",
       "      <th>npartitions=1</th>\n",
       "      <th></th>\n",
       "      <th></th>\n",
       "      <th></th>\n",
       "      <th></th>\n",
       "      <th></th>\n",
       "      <th></th>\n",
       "      <th></th>\n",
       "      <th></th>\n",
       "      <th></th>\n",
       "      <th></th>\n",
       "      <th></th>\n",
       "      <th></th>\n",
       "      <th></th>\n",
       "      <th></th>\n",
       "      <th></th>\n",
       "      <th></th>\n",
       "      <th></th>\n",
       "      <th></th>\n",
       "      <th></th>\n",
       "      <th></th>\n",
       "      <th></th>\n",
       "      <th></th>\n",
       "      <th></th>\n",
       "      <th></th>\n",
       "      <th></th>\n",
       "      <th></th>\n",
       "      <th></th>\n",
       "      <th></th>\n",
       "      <th></th>\n",
       "      <th></th>\n",
       "      <th></th>\n",
       "      <th></th>\n",
       "      <th></th>\n",
       "      <th></th>\n",
       "      <th></th>\n",
       "      <th></th>\n",
       "      <th></th>\n",
       "      <th></th>\n",
       "      <th></th>\n",
       "      <th></th>\n",
       "      <th></th>\n",
       "      <th></th>\n",
       "      <th></th>\n",
       "      <th></th>\n",
       "      <th></th>\n",
       "      <th></th>\n",
       "      <th></th>\n",
       "      <th></th>\n",
       "      <th></th>\n",
       "      <th></th>\n",
       "      <th></th>\n",
       "      <th></th>\n",
       "      <th></th>\n",
       "      <th></th>\n",
       "      <th></th>\n",
       "      <th></th>\n",
       "      <th></th>\n",
       "      <th></th>\n",
       "      <th></th>\n",
       "      <th></th>\n",
       "      <th></th>\n",
       "    </tr>\n",
       "  </thead>\n",
       "  <tbody>\n",
       "    <tr>\n",
       "      <th></th>\n",
       "      <td>object</td>\n",
       "      <td>object</td>\n",
       "      <td>object</td>\n",
       "      <td>object</td>\n",
       "      <td>object</td>\n",
       "      <td>object</td>\n",
       "      <td>object</td>\n",
       "      <td>object</td>\n",
       "      <td>object</td>\n",
       "      <td>object</td>\n",
       "      <td>object</td>\n",
       "      <td>object</td>\n",
       "      <td>object</td>\n",
       "      <td>object</td>\n",
       "      <td>object</td>\n",
       "      <td>object</td>\n",
       "      <td>object</td>\n",
       "      <td>object</td>\n",
       "      <td>object</td>\n",
       "      <td>object</td>\n",
       "      <td>object</td>\n",
       "      <td>object</td>\n",
       "      <td>object</td>\n",
       "      <td>object</td>\n",
       "      <td>object</td>\n",
       "      <td>object</td>\n",
       "      <td>object</td>\n",
       "      <td>object</td>\n",
       "      <td>object</td>\n",
       "      <td>object</td>\n",
       "      <td>object</td>\n",
       "      <td>object</td>\n",
       "      <td>object</td>\n",
       "      <td>object</td>\n",
       "      <td>object</td>\n",
       "      <td>object</td>\n",
       "      <td>object</td>\n",
       "      <td>object</td>\n",
       "      <td>object</td>\n",
       "      <td>object</td>\n",
       "      <td>object</td>\n",
       "      <td>object</td>\n",
       "      <td>object</td>\n",
       "      <td>object</td>\n",
       "      <td>object</td>\n",
       "      <td>object</td>\n",
       "      <td>object</td>\n",
       "      <td>object</td>\n",
       "      <td>object</td>\n",
       "      <td>object</td>\n",
       "      <td>object</td>\n",
       "      <td>object</td>\n",
       "      <td>object</td>\n",
       "      <td>object</td>\n",
       "      <td>object</td>\n",
       "      <td>object</td>\n",
       "      <td>object</td>\n",
       "      <td>object</td>\n",
       "      <td>object</td>\n",
       "      <td>object</td>\n",
       "      <td>object</td>\n",
       "    </tr>\n",
       "    <tr>\n",
       "      <th></th>\n",
       "      <td>...</td>\n",
       "      <td>...</td>\n",
       "      <td>...</td>\n",
       "      <td>...</td>\n",
       "      <td>...</td>\n",
       "      <td>...</td>\n",
       "      <td>...</td>\n",
       "      <td>...</td>\n",
       "      <td>...</td>\n",
       "      <td>...</td>\n",
       "      <td>...</td>\n",
       "      <td>...</td>\n",
       "      <td>...</td>\n",
       "      <td>...</td>\n",
       "      <td>...</td>\n",
       "      <td>...</td>\n",
       "      <td>...</td>\n",
       "      <td>...</td>\n",
       "      <td>...</td>\n",
       "      <td>...</td>\n",
       "      <td>...</td>\n",
       "      <td>...</td>\n",
       "      <td>...</td>\n",
       "      <td>...</td>\n",
       "      <td>...</td>\n",
       "      <td>...</td>\n",
       "      <td>...</td>\n",
       "      <td>...</td>\n",
       "      <td>...</td>\n",
       "      <td>...</td>\n",
       "      <td>...</td>\n",
       "      <td>...</td>\n",
       "      <td>...</td>\n",
       "      <td>...</td>\n",
       "      <td>...</td>\n",
       "      <td>...</td>\n",
       "      <td>...</td>\n",
       "      <td>...</td>\n",
       "      <td>...</td>\n",
       "      <td>...</td>\n",
       "      <td>...</td>\n",
       "      <td>...</td>\n",
       "      <td>...</td>\n",
       "      <td>...</td>\n",
       "      <td>...</td>\n",
       "      <td>...</td>\n",
       "      <td>...</td>\n",
       "      <td>...</td>\n",
       "      <td>...</td>\n",
       "      <td>...</td>\n",
       "      <td>...</td>\n",
       "      <td>...</td>\n",
       "      <td>...</td>\n",
       "      <td>...</td>\n",
       "      <td>...</td>\n",
       "      <td>...</td>\n",
       "      <td>...</td>\n",
       "      <td>...</td>\n",
       "      <td>...</td>\n",
       "      <td>...</td>\n",
       "      <td>...</td>\n",
       "    </tr>\n",
       "  </tbody>\n",
       "</table>\n",
       "</div>\n",
       "<div>Dask Name: read-csv, 1 tasks</div>"
      ],
      "text/plain": [
       "Dask DataFrame Structure:\n",
       "              Unnamed: 0    AC01  REGNUM ACCDAT_start  ACCDAT number_of_weeks  months currency consolidated acctype Turnover  Export Cost_of_Sales Gross_Profit Wages_Salaries Directors_Emoluments Operating_Profits Depreciation Audit_Fees Interest_Payments Pre_Tax_Profit taxation1 Profit_After_Tax Dividends_Payable Retained_Profits Tangible_Assets Intangible_Assets Total_Fixed_Assets Total_Current_Assets Trade_Debtors   Stock    Cash Other_Current_Assets Increase_In_Cash Mis_Current_Assets Total_Assets Total_Current_Liabilities Trade_Creditors Bank_Overdraft Other_Short_Term_Fin Mis_Current_Liabilities Other_Long_Term_Fin Total_Long_Term_Liabilities Bank_Overdraft_LTL Total_Liabilities Net_Assets Working_Capital Paid_up_equity PL_Account_Weserve Sundry_Weserves Revaluation_Weserve Shareholder_Funds NetWorth NetCashflowfromOperations NetCashflowbeforeFinancing NetCashflowfromFinancing Contingent_Liability Capital_Employed No_Employees  status  UPLOAD\n",
       "npartitions=1                                                                                                                                                                                                                                                                                                                                                                                                                                                                                                                                                                                                                                                                                                                                                                                                                                                                                                                                                                                     \n",
       "                  object  object  object       object  object          object  object   object       object  object   object  object        object       object         object               object            object       object     object            object         object    object           object            object           object          object            object             object               object        object  object  object               object           object             object       object                    object          object         object               object                  object              object                      object             object            object     object          object         object             object          object              object            object   object                    object                     object                   object               object           object       object  object  object\n",
       "                     ...     ...     ...          ...     ...             ...     ...      ...          ...     ...      ...     ...           ...          ...            ...                  ...               ...          ...        ...               ...            ...       ...              ...               ...              ...             ...               ...                ...                  ...           ...     ...     ...                  ...              ...                ...          ...                       ...             ...            ...                  ...                     ...                 ...                         ...                ...               ...        ...             ...            ...                ...             ...                 ...               ...      ...                       ...                        ...                      ...                  ...              ...          ...     ...     ...\n",
       "Dask Name: read-csv, 1 tasks"
      ]
     },
     "execution_count": 30,
     "metadata": {},
     "output_type": "execute_result"
    }
   ],
   "source": [
    "## If databse is in .csv format \n",
    "if (os.path.isfile(database_file)):\n",
    "    print('Database found.','Reading database! \\n') \n",
    "    start = time.process_time()\n",
    "    df_database = dd.read_csv(database_file) \n",
    "    print('Time taken to read database {}:'.format(database_file.split('/')[-1]),time.process_time() - start,'s')\n",
    "else:\n",
    "    print('Database not found.','Creating database! \\n')\n",
    "    df_database_=pd.DataFrame(columns=AC01_header_names)\n",
    "    df_database=dd.from_pandas(df_database_,npartitions=1*multiprocessing.cpu_count())\n",
    "    \n",
    "df_database"
   ]
  },
  {
   "cell_type": "markdown",
   "metadata": {},
   "source": [
    "#### Updating database"
   ]
  },
  {
   "cell_type": "markdown",
   "metadata": {},
   "source": [
    "Rules:\n",
    "\n",
    "1. Check for field:REGNUM\n",
    "2. If REGNUM doesn't exist: add as new row in database\n",
    "3. If they exist, check for the rest of the fields\n",
    "4. If they are not identical: add as new row in database\n"
   ]
  },
  {
   "cell_type": "code",
   "execution_count": 20,
   "metadata": {},
   "outputs": [],
   "source": [
    "def update_database(entry_dir):\n",
    "    global df_database\n",
    "    entry_file=\"AC01_\"+(entry_dir.split('_')[-2])+\"_\"+(entry_dir.split('_')[-1])+\".txt\"\n",
    "    entry_file_zip=\"AC01_\"+(entry_dir.split('_')[-2])+\"_\"+(entry_dir.split('_')[-1])+\".rar\"\n",
    "    pyunpack.Archive(base_dir+'{}/{}'.format(entry_dir,entry_file_zip)).extractall(base_dir+'{}/'.format(entry_dir))\n",
    "    print('Entry file unzipped as:',entry_file)\n",
    "    \n",
    "    start = time.process_time()\n",
    "    df_entry_file=dd.read_csv('C:/Users/cnlp/Research Fellowship/{}/{}'.format(entry_dir,entry_file),sep='|',names=AC01_header_names,dtype=AC01_header_dtypes)\n",
    "    print('Time taken to read:',time.process_time() - start,'s')\n",
    "    df_entry_file['UPLOAD']=entry_file.split('.')[0]\n",
    "    \n",
    "    start = time.process_time()\n",
    "    df_database=df_database.merge(df_entry_file)\n",
    "    print('Time taken to process:',time.process_time() - start,'s')\n",
    "    \n",
    "    return True"
   ]
  },
  {
   "cell_type": "code",
   "execution_count": null,
   "metadata": {
    "scrolled": true
   },
   "outputs": [],
   "source": [
    "## Reading from new directory\n",
    "for entry_dir in entry_dir_list:\n",
    "    print('\\nReading from entry dir:',entry_dir)\n",
    "    print('Update Success:',update_database(entry_dir))"
   ]
  },
  {
   "cell_type": "code",
   "execution_count": 29,
   "metadata": {},
   "outputs": [
    {
     "name": "stdout",
     "output_type": "stream",
     "text": [
      "Database AC01.csv updated\n"
     ]
    },
    {
     "data": {
      "text/plain": [
       "['C:/Users/cnlp/Research Fellowship/UKLTD_Database/AC01.csv']"
      ]
     },
     "execution_count": 29,
     "metadata": {},
     "output_type": "execute_result"
    }
   ],
   "source": [
    "## Writing updated databse to file\n",
    "print('Database {} updated'.format(database_file.split('/')[-1]))\n",
    "df_database.to_csv(database_file,single_file = True) #pyreadstat.write_sav(df_database,database_file)"
   ]
  },
  {
   "cell_type": "code",
   "execution_count": 101,
   "metadata": {},
   "outputs": [
    {
     "name": "stdout",
     "output_type": "stream",
     "text": [
      "Processed list updated\n"
     ]
    }
   ],
   "source": [
    "## Update processed directory list\n",
    "print('Processed list updated')\n",
    "with open(dir_list_file, 'w') as fd:\n",
    "    fd.write('\\n'.join(dir_list_old+entry_dir_list))"
   ]
  },
  {
   "cell_type": "code",
   "execution_count": null,
   "metadata": {},
   "outputs": [],
   "source": []
  },
  {
   "cell_type": "code",
   "execution_count": null,
   "metadata": {},
   "outputs": [],
   "source": []
  }
 ],
 "metadata": {
  "kernelspec": {
   "display_name": "Python 3",
   "language": "python",
   "name": "python3"
  },
  "language_info": {
   "codemirror_mode": {
    "name": "ipython",
    "version": 3
   },
   "file_extension": ".py",
   "mimetype": "text/x-python",
   "name": "python",
   "nbconvert_exporter": "python",
   "pygments_lexer": "ipython3",
   "version": "3.8.5"
  }
 },
 "nbformat": 4,
 "nbformat_minor": 4
}
