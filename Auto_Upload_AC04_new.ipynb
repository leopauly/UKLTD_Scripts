{
 "cells": [
  {
   "cell_type": "markdown",
   "metadata": {},
   "source": [
    "#### Description"
   ]
  },
  {
   "cell_type": "code",
   "execution_count": 1,
   "metadata": {},
   "outputs": [
    {
     "name": "stdout",
     "output_type": "stream",
     "text": [
      "Author: Leo Pauly (cnlp@leeds.ac.uk) & Nick Wilson (n.wilson@lubs.leeds.ac.uk)\n",
      "Description: Autmatic database update\n"
     ]
    }
   ],
   "source": [
    "print('Author: Leo Pauly (cnlp@leeds.ac.uk) & Nick Wilson (n.wilson@lubs.leeds.ac.uk)')\n",
    "print('Description: Autmatic database update')"
   ]
  },
  {
   "cell_type": "markdown",
   "metadata": {},
   "source": [
    "#### Usage intructions & Other info"
   ]
  },
  {
   "cell_type": "markdown",
   "metadata": {},
   "source": [
    "1. Change/Add User (user variable options: 'leo','nick')\n",
    "2. Assumed that new entry directory names always start with UKLTD_R_ or UKLTD_W_\n",
    "3. File processed_dir_list_AC04.txt contains the processed directory list\n",
    "4. Prefefably install python using anacodna (all in one installation): https://www.anaconda.com/products/individual#windows\n",
    "5. Run this if 'pyarrow' module is missing':  !pip install pyarrow \n",
    "6. Check base_dir variable\n",
    "7. Databases are stored in the directory (Create one if missing) : UKLTD_Database \n",
    "8. Run this if 'patool' module is missing':  !pip install patool pyunpack\n",
    "9. Delete UKLTD_Database/AC04* directory and processed_dir_list_AC04.txt file (in UKLTD_Scripts dir) when running for the very first time"
   ]
  },
  {
   "cell_type": "code",
   "execution_count": 2,
   "metadata": {},
   "outputs": [],
   "source": [
    "#!pip install pyarrow \n",
    "#!pip install patool pyunpack\n",
    "#print('Extra modules installed')"
   ]
  },
  {
   "cell_type": "markdown",
   "metadata": {},
   "source": [
    "#### Imports"
   ]
  },
  {
   "cell_type": "code",
   "execution_count": 3,
   "metadata": {},
   "outputs": [
    {
     "name": "stdout",
     "output_type": "stream",
     "text": [
      "Python version: 3.8.5 (default, Sep  3 2020, 21:29:08) [MSC v.1916 64 bit (AMD64)]\n",
      "No: of logical CPU cores available: 8\n"
     ]
    }
   ],
   "source": [
    "import os\n",
    "import sys\n",
    "import pandas as pd\n",
    "import numpy as np\n",
    "import pyreadstat\n",
    "from zipfile import ZipFile\n",
    "import pyunpack\n",
    "import multiprocessing\n",
    "import dask.dataframe as dd\n",
    "import time\n",
    "import dask\n",
    "import csv\n",
    "from dask.diagnostics import ProgressBar\n",
    "from dask.distributed import Client\n",
    "dask.config.set(scheduler='threads')\n",
    "\n",
    "print('Python version:',sys.version)\n",
    "num_processes = multiprocessing.cpu_count()\n",
    "print('No: of logical CPU cores available:',num_processes)\n",
    "\n",
    "AC04_header_dtypes={'AC04': 'str','REGNUM': 'str','FINA001': 'str','FINA002': 'str','FINA003': 'str','FINA004': 'str','FINA005': 'str','FINA006': 'float64','FINA007': 'float64','FINA008': 'float64','FINA009': 'float64','FINA010': 'float64','FINA011': 'float64','FINA012': 'float64','FINA013': 'float64','FINA014': 'float64','FINA015': 'float64','FINA016': 'float64','FINA017': 'float64','FINA018': 'float64','FINA019': 'float64','FINA020': 'float64','FINA021': 'float64','FINA022': 'float64','FINA023': 'float64','FINA024': 'float64','FINA025': 'float64','FINA026': 'float64','FINA027': 'float64','FINA028': 'float64','FINA029': 'float64','FINA030': 'float64','FINA031': 'float64','FINA032': 'float64','FINA033': 'float64','FINA034': 'float64','FINA035': 'float64','FINA036': 'float64','FINA037': 'float64','FINA038': 'float64','FINA039': 'float64','FINA040': 'float64','FINA041': 'float64','FINA042': 'float64','FINA043': 'float64','FINA044': 'float64','FINA045': 'float64','FINA046': 'float64','FINA047': 'float64','FINA048': 'float64','FINA049': 'float64','FINA050': 'float64','FINA051': 'float64','FINA052': 'float64','FINA053': 'float64','FINA054': 'float64','FINA055': 'float64','FINA056': 'float64','FINA057': 'float64','FINA058': 'float64','FINA059': 'float64','FINA060': 'float64','FINA061': 'float64','FINA062': 'float64','FINA063': 'float64','FINA064': 'float64','FINA065': 'float64','FINA066': 'float64','FINA067': 'float64','FINA068': 'float64','FINA069': 'float64','FINA070': 'float64','FINA071': 'float64','FINA072': 'float64','FINA073': 'float64','FINA074': 'float64','FINA075': 'float64','FINA076': 'float64','FINA077': 'float64','FINA078': 'float64','FINA079': 'float64','FINA080': 'float64','FINA081': 'float64','FINA082': 'float64','FINA083': 'float64','FINA084': 'float64','FINA085': 'float64','FINA086': 'float64','FINA087': 'float64','FINA088': 'float64','FINA089': 'float64','FINA090': 'float64','FINA091': 'float64','FINA092': 'float64','FINA093': 'float64','FINA094': 'float64','FINA095': 'float64','FINA096': 'float64','FINA097': 'float64','FINA098': 'float64','FINA099': 'float64','FINA100': 'float64','FINA101': 'float64','FINA102': 'float64','FINA103': 'float64','FINA104': 'float64','FINA105': 'float64','FINA106': 'float64','FINA107': 'float64','FINA108': 'float64','FINA109': 'float64','FINA110': 'float64','FINA111': 'float64','FINA112': 'float64','FINA113': 'float64','FINA114': 'float64','FINA115': 'float64','FINA116': 'float64','FINA117': 'float64','FINA118': 'float64','FINA119': 'float64','FINA120': 'float64','FINA121': 'float64','FINA122': 'float64','FINA123': 'float64','FINA124': 'float64','FINA125': 'float64','FINA126': 'float64','FINA127': 'float64','FINA128': 'float64','FINA129': 'float64','FINA130': 'float64','FINA131': 'float64','FINA132': 'float64','FINA133': 'float64','FINA134': 'float64','FINA135': 'float64','FINA136': 'float64','FINA137': 'float64','FINA138': 'float64','FINA139': 'float64','FINA140': 'float64','FINA141': 'float64','FINA142': 'float64','FINA143': 'float64','FINA144': 'float64','FINA145': 'float64','FINA146': 'float64','FINA147': 'float64','FINA148': 'float64','FINA149': 'float64','FINA150': 'float64','FINA151': 'float64','FINA152': 'float64','FINA153': 'float64','FINA154': 'float64','FINA155': 'float64','FINA156': 'float64','FINA157': 'float64','FINA158': 'float64','FINA159': 'float64','FINA160': 'float64','FINA161': 'float64','FINA162': 'float64','FINA163': 'float64','FINA164': 'float64','FINA165': 'float64','FINA166': 'float64','FINA167': 'float64','FINA168': 'float64','FINA169': 'float64','FINA170': 'float64','FINA171': 'float64','UPLOAD': 'str'}\n",
    "AC04_header_names=list(AC04_header_dtypes.keys())"
   ]
  },
  {
   "cell_type": "code",
   "execution_count": 4,
   "metadata": {},
   "outputs": [],
   "source": [
    "## Selectting user and adding filepaths\n",
    "user='leo' #(user variable options: 'leo','nick')\n",
    "if(user=='leo'):\n",
    "    base_dir='C:/Users/cnlp/Research Fellowship/'\n",
    "elif(user=='nick'):\n",
    "    base_dir='/Volumes/Pegasus32 R6/CreditSafe 2019 Zipped/'\n",
    "\n",
    "os.makedirs(base_dir+'UKLTD_Database', exist_ok=True)\n",
    "dir_list_file=base_dir+'/UKLTD_Scripts/processed_dir_list_AC04.txt'\n",
    "database_file_folder=base_dir+'UKLTD_Database/AC04/'"
   ]
  },
  {
   "cell_type": "markdown",
   "metadata": {},
   "source": [
    "#### Checking new entries"
   ]
  },
  {
   "cell_type": "code",
   "execution_count": 5,
   "metadata": {},
   "outputs": [
    {
     "name": "stdout",
     "output_type": "stream",
     "text": [
      "List of processed directores:\n",
      "\n",
      "\n",
      "New entries detected:\n",
      "UKLTD_W_20190602\n",
      "UKLTD_W_20190609\n",
      "UKLTD_W_20190616\n",
      "UKLTD_W_7\n"
     ]
    }
   ],
   "source": [
    "## Checking for new download\n",
    "with open(dir_list_file, 'a+') as fd:\n",
    "    fd.seek(0)\n",
    "    dir_list_old=fd.read().split('\\n')\n",
    "\n",
    "print('List of processed directores:',*dir_list_old,sep='\\n')\n",
    "dir_list_new=[dir_name for dir_name in os.listdir(base_dir) if (dir_name.startswith(\"UKLTD_W\") or dir_name.startswith(\"UKLTD_R\"))]\n",
    "entry_dir_list=[entry_dir for entry_dir in dir_list_new if entry_dir not in dir_list_old ]\n",
    "print('\\nNew entries detected:',*entry_dir_list,sep='\\n')"
   ]
  },
  {
   "cell_type": "markdown",
   "metadata": {},
   "source": [
    "#### Creating/Loading database "
   ]
  },
  {
   "cell_type": "code",
   "execution_count": 6,
   "metadata": {},
   "outputs": [
    {
     "name": "stdout",
     "output_type": "stream",
     "text": [
      "Database not found. Creating database! \n",
      "\n"
     ]
    }
   ],
   "source": [
    "## If databse is in .csv format \n",
    "if (os.path.exists(database_file_folder)):\n",
    "    print('Database found.','Reading database! \\n') \n",
    "    start = time.process_time()\n",
    "    with ProgressBar():\n",
    "        df_database = dd.read_parquet(database_file_folder) \n",
    "    print('Time taken to read database {}:'.format(database_file_folder),time.process_time() - start,'s')\n",
    "    database_missing=False\n",
    "else:\n",
    "    print('Database not found.','Creating database! \\n')\n",
    "    database_missing=True\n",
    "    \n"
   ]
  },
  {
   "cell_type": "markdown",
   "metadata": {},
   "source": [
    "#### Updating database"
   ]
  },
  {
   "cell_type": "markdown",
   "metadata": {},
   "source": [
    "Rules:\n",
    "\n",
    "1. Concatenate new entries to the existig database\n",
    "2. Run de_duplicating fucntion"
   ]
  },
  {
   "cell_type": "code",
   "execution_count": 7,
   "metadata": {},
   "outputs": [],
   "source": [
    "def update_database(entry_dir): \n",
    "    global df_database\n",
    "    global database_missing\n",
    "    \n",
    "    \n",
    "    ## Checking and unzipping new entry file\n",
    "    entry_file=\"AC04_\"+(entry_dir.split('_')[-2])+\"_\"+(entry_dir.split('_')[-1])+\".txt\"\n",
    "    entry_file_zip=\"AC04_\"+(entry_dir.split('_')[-2])+\"_\"+(entry_dir.split('_')[-1])+\".rar\"\n",
    "    print('Unzipping:',entry_file_zip)\n",
    "    try:\n",
    "        pyunpack.Archive(base_dir+'{}/{}'.format(entry_dir,entry_file_zip)).extractall(base_dir+'{}/'.format(entry_dir))\n",
    "        print('Entry file unzipped as:',entry_file)\n",
    "    except:\n",
    "        print(\"Rar file not found: {}\".format(entry_file_zip))\n",
    "        print('Skipping this entry:%s'%entry_dir)\n",
    "        return None\n",
    "       \n",
    "    ## Reading new entry file\n",
    "    start = time.process_time()\n",
    "    with ProgressBar():\n",
    "        df_entry_file=dd.read_csv(base_dir+entry_dir+'/'+entry_file,sep='|',names=AC04_header_names,dtype=AC04_header_dtypes,encoding='iso-8859-1',quoting=csv.QUOTE_NONE)\n",
    "    print('Time taken to read:',time.process_time() - start,'s')\n",
    "    df_entry_file['UPLOAD']=entry_file.split('.')[0]\n",
    "    \n",
    "    \n",
    "    ## Adding new entry_rows to main database after checking\n",
    "    if(database_missing):\n",
    "        df_database=df_entry_file\n",
    "        database_missing=False\n",
    "    else:\n",
    "        print('Appending...!')\n",
    "        start = time.process_time()\n",
    "        with ProgressBar():\n",
    "            df_database=df_database.append(df_entry_file)\n",
    "        print('Time taken to append:',time.process_time() - start,'s')  "
   ]
  },
  {
   "cell_type": "code",
   "execution_count": 8,
   "metadata": {
    "scrolled": true
   },
   "outputs": [
    {
     "name": "stdout",
     "output_type": "stream",
     "text": [
      "\n",
      "Reading from entry dir: UKLTD_W_20190602\n",
      "Unzipping: AC04_W_20190602.rar\n",
      "Entry file unzipped as: AC04_W_20190602.txt\n",
      "Time taken to read: 0.015625 s\n",
      "\n",
      "Reading from entry dir: UKLTD_W_20190609\n",
      "Unzipping: AC04_W_20190609.rar\n",
      "Entry file unzipped as: AC04_W_20190609.txt\n",
      "Time taken to read: 0.015625 s\n",
      "Appending...!\n",
      "Time taken to append: 0.09375 s\n",
      "\n",
      "Reading from entry dir: UKLTD_W_20190616\n",
      "Unzipping: AC04_W_20190616.rar\n",
      "Entry file unzipped as: AC04_W_20190616.txt\n",
      "Time taken to read: 0.015625 s\n",
      "Appending...!\n",
      "Time taken to append: 0.078125 s\n",
      "\n",
      "Reading from entry dir: UKLTD_W_7\n",
      "Unzipping: AC04_W_7.rar\n",
      "Rar file not found: AC04_W_7.rar\n",
      "Skipping this entry:UKLTD_W_7\n"
     ]
    }
   ],
   "source": [
    "## Reading from new directory and adding to database\n",
    "for entry_dir in entry_dir_list:\n",
    "    print('\\nReading from entry dir:',entry_dir)\n",
    "    update_database(entry_dir)"
   ]
  },
  {
   "cell_type": "code",
   "execution_count": 9,
   "metadata": {},
   "outputs": [
    {
     "name": "stdout",
     "output_type": "stream",
     "text": [
      "Original colomn list: Index(['AC04', 'REGNUM', 'FINA001', 'FINA002', 'FINA003', 'FINA004', 'FINA005',\n",
      "       'FINA006', 'FINA007', 'FINA008',\n",
      "       ...\n",
      "       'FINA163', 'FINA164', 'FINA165', 'FINA166', 'FINA167', 'FINA168',\n",
      "       'FINA169', 'FINA170', 'FINA171', 'UPLOAD'],\n",
      "      dtype='object', length=174) \n",
      "\n",
      "Colomns to check while de-duplicating: ['AC04', 'REGNUM', 'FINA001', 'FINA002', 'FINA003', 'FINA004', 'FINA005', 'FINA006', 'FINA007', 'FINA008', 'FINA009', 'FINA010', 'FINA011', 'FINA012', 'FINA013', 'FINA014', 'FINA015', 'FINA016', 'FINA017', 'FINA018', 'FINA019', 'FINA020', 'FINA021', 'FINA022', 'FINA023', 'FINA024', 'FINA025', 'FINA026', 'FINA027', 'FINA028', 'FINA029', 'FINA030', 'FINA031', 'FINA032', 'FINA033', 'FINA034', 'FINA035', 'FINA036', 'FINA037', 'FINA038', 'FINA039', 'FINA040', 'FINA041', 'FINA042', 'FINA043', 'FINA044', 'FINA045', 'FINA046', 'FINA047', 'FINA048', 'FINA049', 'FINA050', 'FINA051', 'FINA052', 'FINA053', 'FINA054', 'FINA055', 'FINA056', 'FINA057', 'FINA058', 'FINA059', 'FINA060', 'FINA061', 'FINA062', 'FINA063', 'FINA064', 'FINA065', 'FINA066', 'FINA067', 'FINA068', 'FINA069', 'FINA070', 'FINA071', 'FINA072', 'FINA073', 'FINA074', 'FINA075', 'FINA076', 'FINA077', 'FINA078', 'FINA079', 'FINA080', 'FINA081', 'FINA082', 'FINA083', 'FINA084', 'FINA085', 'FINA086', 'FINA087', 'FINA088', 'FINA089', 'FINA090', 'FINA091', 'FINA092', 'FINA093', 'FINA094', 'FINA095', 'FINA096', 'FINA097', 'FINA098', 'FINA099', 'FINA100', 'FINA101', 'FINA102', 'FINA103', 'FINA104', 'FINA105', 'FINA106', 'FINA107', 'FINA108', 'FINA109', 'FINA110', 'FINA111', 'FINA112', 'FINA113', 'FINA114', 'FINA115', 'FINA116', 'FINA117', 'FINA118', 'FINA119', 'FINA120', 'FINA121', 'FINA122', 'FINA123', 'FINA124', 'FINA125', 'FINA126', 'FINA127', 'FINA128', 'FINA129', 'FINA130', 'FINA131', 'FINA132', 'FINA133', 'FINA134', 'FINA135', 'FINA136', 'FINA137', 'FINA138', 'FINA139', 'FINA140', 'FINA141', 'FINA142', 'FINA143', 'FINA144', 'FINA145', 'FINA146', 'FINA147', 'FINA148', 'FINA149', 'FINA150', 'FINA151', 'FINA152', 'FINA153', 'FINA154', 'FINA155', 'FINA156', 'FINA157', 'FINA158', 'FINA159', 'FINA160', 'FINA161', 'FINA162', 'FINA163', 'FINA164', 'FINA165', 'FINA166', 'FINA167', 'FINA168', 'FINA169', 'FINA170', 'FINA171']\n"
     ]
    }
   ],
   "source": [
    "## Deduplication list \n",
    "AC04_header_names_dedup_list=list(np.array(df_database.columns))\n",
    "AC04_header_names_dedup_list.remove('UPLOAD')\n",
    "print('Original colomn list:',df_database.columns,'\\n',)\n",
    "print('Colomns to check while de-duplicating:',AC04_header_names_dedup_list)"
   ]
  },
  {
   "cell_type": "code",
   "execution_count": 10,
   "metadata": {
    "scrolled": true
   },
   "outputs": [
    {
     "name": "stdout",
     "output_type": "stream",
     "text": [
      "Time taken to de duplicate: 0.046875 s\n"
     ]
    }
   ],
   "source": [
    "## De duplicating\n",
    "start = time.process_time()\n",
    "df_database=df_database.drop_duplicates(subset=AC04_header_names_dedup_list).repartition(npartitions=df_database.npartitions) \n",
    "print('Time taken to de duplicate:',time.process_time() - start,'s')"
   ]
  },
  {
   "cell_type": "code",
   "execution_count": 11,
   "metadata": {},
   "outputs": [
    {
     "name": "stdout",
     "output_type": "stream",
     "text": [
      "No: of partitions to be written: 3\n"
     ]
    }
   ],
   "source": [
    "## Reseting index\n",
    "df_database=df_database.reset_index(drop=True)\n",
    "print('No: of partitions to be written:',df_database.npartitions)"
   ]
  },
  {
   "cell_type": "markdown",
   "metadata": {},
   "source": [
    "#### Writing into disk"
   ]
  },
  {
   "cell_type": "code",
   "execution_count": 12,
   "metadata": {},
   "outputs": [
    {
     "name": "stdout",
     "output_type": "stream",
     "text": [
      "[########################################] | 100% Completed |  0.3s\n",
      "Time taken to write: 0.5 s\n"
     ]
    }
   ],
   "source": [
    "## Writing updated databse to file\n",
    "import pyarrow as pa\n",
    "#schema=pa.schema([('AC04',pa.string()),('PNR',pa.float64()),('DTTITLE',pa.string()),('PTITLE',pa.string()),('INILS',pa.string()),('SUFF',pa.string()),('HNRS',pa.string()),('FNAME',pa.string()),('MNAME',pa.string()),('SNAME',pa.string()),('ADD1',pa.string()),('ADD2',pa.string()),('ADD3',pa.string()),('ADD4',pa.string()),('ADD5',pa.string()),('PCODE',pa.string()),('CNTRY',pa.string()),('BDATE',pa.string()),('FBDATE',pa.string()),('NALTY',pa.string()),('SADD',pa.string()),('MMARK',pa.string()),('URC',pa.string()),('CHGL',pa.float64()),('CHDATE',pa.string()),('RCDATE',pa.string()),('UPLOAD',pa.string())])\n",
    "start = time.process_time()\n",
    "with ProgressBar():\n",
    "    df_database.to_parquet(database_file_folder)#,schema=schema)\n",
    "print('Time taken to write:',time.process_time() - start,'s')"
   ]
  },
  {
   "cell_type": "code",
   "execution_count": 13,
   "metadata": {},
   "outputs": [
    {
     "name": "stdout",
     "output_type": "stream",
     "text": [
      "Processed list updated\n"
     ]
    }
   ],
   "source": [
    "## Update processed directory list\n",
    "print('Processed list updated')\n",
    "with open(dir_list_file, 'w') as fd:\n",
    "    fd.write('\\n'.join(dir_list_old+entry_dir_list))"
   ]
  },
  {
   "cell_type": "code",
   "execution_count": null,
   "metadata": {},
   "outputs": [],
   "source": []
  }
 ],
 "metadata": {
  "kernelspec": {
   "display_name": "Python 3",
   "language": "python",
   "name": "python3"
  },
  "language_info": {
   "codemirror_mode": {
    "name": "ipython",
    "version": 3
   },
   "file_extension": ".py",
   "mimetype": "text/x-python",
   "name": "python",
   "nbconvert_exporter": "python",
   "pygments_lexer": "ipython3",
   "version": "3.8.5"
  }
 },
 "nbformat": 4,
 "nbformat_minor": 4
}
