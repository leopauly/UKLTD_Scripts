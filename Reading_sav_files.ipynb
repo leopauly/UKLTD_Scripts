{
 "cells": [
  {
   "cell_type": "markdown",
   "metadata": {},
   "source": [
    "#### Description"
   ]
  },
  {
   "cell_type": "code",
   "execution_count": 1,
   "metadata": {},
   "outputs": [
    {
     "name": "stdout",
     "output_type": "stream",
     "text": [
      "Author: Leo Pauly (cnlp@leeds.ac.uk) & Nick Wilson (n.wilson@lubs.leeds.ac.uk)\n",
      "Description: Autmatic database update\n"
     ]
    }
   ],
   "source": [
    "print('Author: Leo Pauly (cnlp@leeds.ac.uk) & Nick Wilson (n.wilson@lubs.leeds.ac.uk)')\n",
    "print('Description: Autmatic database update')"
   ]
  },
  {
   "cell_type": "markdown",
   "metadata": {},
   "source": [
    "#### Imports"
   ]
  },
  {
   "cell_type": "code",
   "execution_count": 1,
   "metadata": {},
   "outputs": [
    {
     "name": "stdout",
     "output_type": "stream",
     "text": [
      "Python version: 3.8.5 (default, Sep  3 2020, 21:29:08) [MSC v.1916 64 bit (AMD64)]\n",
      "No: of logical CPU cores available: 8\n"
     ]
    }
   ],
   "source": [
    "import os\n",
    "import sys\n",
    "import pandas as pd\n",
    "import numpy as np\n",
    "import pyreadstat\n",
    "from zipfile import ZipFile\n",
    "import pyunpack\n",
    "import multiprocessing\n",
    "import dask.dataframe as dd\n",
    "import time\n",
    "import dask\n",
    "from dask.diagnostics import ProgressBar\n",
    "from dask.distributed import Client\n",
    "dask.config.set(scheduler='threads')\n",
    "\n",
    "print('Python version:',sys.version)\n",
    "num_processes = multiprocessing.cpu_count()\n",
    "print('No: of logical CPU cores available:',num_processes)"
   ]
  },
  {
   "cell_type": "markdown",
   "metadata": {},
   "source": [
    "#### Reading sav files"
   ]
  },
  {
   "cell_type": "code",
   "execution_count": 2,
   "metadata": {},
   "outputs": [],
   "source": [
    "df_database=pd.read_spss(\"../UKLTD_Database/MR01_Nk.sav\")"
   ]
  },
  {
   "cell_type": "code",
   "execution_count": 3,
   "metadata": {},
   "outputs": [],
   "source": [
    "header_list=df_database.columns.values"
   ]
  },
  {
   "cell_type": "code",
   "execution_count": 4,
   "metadata": {},
   "outputs": [],
   "source": [
    "header_list_types = dict.fromkeys(header_list, \"str\")"
   ]
  },
  {
   "cell_type": "code",
   "execution_count": 5,
   "metadata": {},
   "outputs": [
    {
     "name": "stdout",
     "output_type": "stream",
     "text": [
      "{'MR01': 'str', 'REGNUM': 'str', 'NUM': 'str', 'REGDATE': 'str', 'CREDATE': 'str', 'SATDATE': 'str', 'CHDATE': 'str', 'MEM': 'str', 'CHCODE': 'str', 'UPLOAD': 'str'}\n"
     ]
    }
   ],
   "source": [
    "print(header_list_types)"
   ]
  },
  {
   "cell_type": "code",
   "execution_count": 6,
   "metadata": {},
   "outputs": [
    {
     "data": {
      "text/plain": [
       "{'SH03': 'str',\n",
       " 'PNR': 'float64',\n",
       " 'STITLE': 'str',\n",
       " 'SFORE': 'str',\n",
       " 'SSUR': 'str',\n",
       " 'SHTP': 'str',\n",
       " 'ADD1': 'str',\n",
       " 'ADD2': 'str',\n",
       " 'ADD3': 'str',\n",
       " 'ADD4': 'str',\n",
       " 'ADD5': 'str',\n",
       " 'PCODE': 'str',\n",
       " 'UPLOAD': 'str'}"
      ]
     },
     "execution_count": 6,
     "metadata": {},
     "output_type": "execute_result"
    }
   ],
   "source": [
    "{'SH03': 'str', 'PNR': 'float64', 'STITLE': 'str', 'SFORE': 'str', 'SSUR': 'str', 'SHTP': 'str', 'ADD1': 'str', 'ADD2': 'str', 'ADD3': 'str', 'ADD4': 'str', 'ADD5': 'str', 'PCODE': 'str', 'UPLOAD': 'str'}"
   ]
  },
  {
   "cell_type": "markdown",
   "metadata": {},
   "source": [
    "#### Manually - I"
   ]
  },
  {
   "cell_type": "code",
   "execution_count": 7,
   "metadata": {},
   "outputs": [],
   "source": [
    "checker={'CD03': 'str',\n",
    "'ADDID': 'float64',\n",
    "'ADD1': 'str',\n",
    "'ADD2': 'str',\n",
    "'ADD3': 'str',\n",
    "'ADD4': 'str',\n",
    "'ADD5': 'str',\n",
    "'PCODE': 'str',\n",
    "'CROF': 'str',\n",
    "'PBOX': 'str',\n",
    "'UPLOAD': 'str',}"
   ]
  },
  {
   "cell_type": "code",
   "execution_count": 8,
   "metadata": {},
   "outputs": [
    {
     "name": "stdout",
     "output_type": "stream",
     "text": [
      "{'CD03': 'str', 'ADDID': 'float64', 'ADD1': 'str', 'ADD2': 'str', 'ADD3': 'str', 'ADD4': 'str', 'ADD5': 'str', 'PCODE': 'str', 'CROF': 'str', 'PBOX': 'str', 'UPLOAD': 'str'}\n"
     ]
    }
   ],
   "source": [
    "print(checker)"
   ]
  },
  {
   "cell_type": "markdown",
   "metadata": {},
   "source": [
    "#### Manually - II"
   ]
  },
  {
   "cell_type": "code",
   "execution_count": 38,
   "metadata": {},
   "outputs": [],
   "source": [
    "def joinStrings(stringList):\n",
    "    single_string=\"\"\n",
    "    for e in stringList:\n",
    "        single_string = single_string + e + ','\n",
    "    return single_string"
   ]
  },
  {
   "cell_type": "code",
   "execution_count": 39,
   "metadata": {},
   "outputs": [
    {
     "name": "stdout",
     "output_type": "stream",
     "text": [
      "'AC05': 'str','REGNUM': 'str','INSU001': 'float64','INSU002': 'float64','INSU003': 'float64','INSU004': 'float64','INSU005': 'float64','INSU006': 'float64','INSU007': 'float64','INSU008': 'float64','INSU009': 'float64','INSU010': 'float64','INSU011': 'float64','INSU012': 'float64','INSU013': 'float64','INSU014': 'float64','INSU015': 'float64','INSU016': 'float64','INSU017': 'float64','INSU018': 'float64','INSU019': 'float64','INSU020': 'float64','INSU021': 'float64','INSU022': 'float64','INSU023': 'float64','INSU024': 'float64','INSU025': 'float64','INSU026': 'float64','INSU027': 'float64','INSU028': 'float64','INSU029': 'float64','INSU030': 'float64','INSU031': 'float64','INSU032': 'float64','INSU033': 'float64','INSU034': 'float64','INSU035': 'float64','INSU036': 'float64','INSU037': 'float64','INSU038': 'float64','INSU039': 'float64','INSU040': 'float64','INSU041': 'float64','INSU042': 'float64','INSU043': 'float64','INSU044': 'float64','INSU045': 'float64','INSU046': 'float64','INSU047': 'float64','INSU048': 'float64','INSU049': 'float64','INSU050': 'float64','INSU051': 'float64','INSU052': 'float64','INSU053': 'float64','INSU054': 'float64','INSU055': 'float64','INSU056': 'float64','INSU057': 'float64','INSU058': 'float64','INSU059': 'float64','INSU060': 'float64','INSU061': 'float64','INSU062': 'float64','INSU063': 'float64','INSU064': 'float64','INSU065': 'float64','INSU066': 'float64','INSU067': 'float64','INSU068': 'float64','INSU069': 'float64','INSU070': 'float64','INSU071': 'float64','INSU072': 'float64','INSU073': 'float64','INSU074': 'float64','INSU075': 'float64','INSU076': 'float64','INSU077': 'float64','INSU078': 'float64','INSU079': 'float64','INSU080': 'float64','INSU081': 'float64','INSU082': 'float64','INSU083': 'float64','INSU084': 'float64','INSU085': 'float64','INSU086': 'float64','INSU087': 'float64','INSU088': 'float64','INSU089': 'float64','INSU090': 'float64','INSU091': 'float64','INSU092': 'float64','INSU093': 'float64','INSU094': 'float64','INSU095': 'float64','INSU096': 'float64','INSU097': 'float64','INSU098': 'float64','INSU099': 'float64','INSU100': 'float64','INSU101': 'float64','INSU102': 'float64','INSU103': 'float64','INSU104': 'float64','INSU105': 'float64','INSU106': 'float64','INSU107': 'float64','INSU108': 'float64','INSU109': 'float64','INSU110': 'float64','INSU111': 'float64','INSU112': 'float64','INSU113': 'float64','INSU114': 'float64','INSU115': 'float64','INSU116': 'float64','INSU117': 'float64','INSU118': 'float64','INSU119': 'float64','INSU120': 'float64','INSU121': 'float64','INSU122': 'float64','INSU123': 'float64','INSU124': 'float64','INSU125': 'float64','INSU126': 'float64','INSU127': 'float64','INSU128': 'float64','INSU129': 'float64','INSU130': 'float64','INSU131': 'float64','INSU132': 'float64','INSU133': 'float64','INSU134': 'float64','INSU135': 'float64','INSU136': 'float64','INSU137': 'float64','INSU138': 'float64','INSU139': 'float64','INSU140': 'float64','INSU141': 'float64','INSU142': 'float64','INSU143': 'float64','INSU144': 'float64','INSU145': 'float64','INSU146': 'float64','INSU147': 'float64','INSU148': 'float64','INSU149': 'float64','INSU150': 'float64','INSU151': 'float64','INSU152': 'float64','INSU153': 'float64','INSU154': 'float64','INSU155': 'float64','INSU156': 'float64','UPLOAD': 'str',\n"
     ]
    }
   ],
   "source": [
    "checker=['\\'AC05\\': \\'str\\'','\\'REGNUM\\': \\'str\\'']\n",
    "\n",
    "for i in range(1,157):\n",
    "    checker.append('\\'INSU{0:03}\\': \\'float64\\''.format(i))\n",
    "\n",
    "checker.append('\\'UPLOAD\\': \\'str\\'') \n",
    "\n",
    "checker_new=joinStrings(checker)\n",
    "print(checker_new)"
   ]
  },
  {
   "cell_type": "code",
   "execution_count": 35,
   "metadata": {},
   "outputs": [
    {
     "data": {
      "text/plain": [
       "\"'AC04': 'str','REGNUM': 'str','FINA000': 'float64','FINA001': 'float64','FINA002': 'float64','FINA003': 'float64','FINA004': 'float64','FINA005': 'float64','FINA006': 'float64','FINA007': 'float64','FINA008': 'float64','FINA009': 'float64','FINA010': 'float64','FINA011': 'float64','FINA012': 'float64','FINA013': 'float64','FINA014': 'float64','FINA015': 'float64','FINA016': 'float64','FINA017': 'float64','FINA018': 'float64','FINA019': 'float64','FINA020': 'float64','FINA021': 'float64','FINA022': 'float64','FINA023': 'float64','FINA024': 'float64','FINA025': 'float64','FINA026': 'float64','FINA027': 'float64','FINA028': 'float64','FINA029': 'float64','FINA030': 'float64','FINA031': 'float64','FINA032': 'float64','FINA033': 'float64','FINA034': 'float64','FINA035': 'float64','FINA036': 'float64','FINA037': 'float64','FINA038': 'float64','FINA039': 'float64','FINA040': 'float64','FINA041': 'float64','FINA042': 'float64','FINA043': 'float64','FINA044': 'float64','FINA045': 'float64','FINA046': 'float64','FINA047': 'float64','FINA048': 'float64','FINA049': 'float64','FINA050': 'float64','FINA051': 'float64','FINA052': 'float64','FINA053': 'float64','FINA054': 'float64','FINA055': 'float64','FINA056': 'float64','FINA057': 'float64','FINA058': 'float64','FINA059': 'float64','FINA060': 'float64','FINA061': 'float64','FINA062': 'float64','FINA063': 'float64','FINA064': 'float64','FINA065': 'float64','FINA066': 'float64','FINA067': 'float64','FINA068': 'float64','FINA069': 'float64','FINA070': 'float64','FINA071': 'float64','FINA072': 'float64','FINA073': 'float64','FINA074': 'float64','FINA075': 'float64','FINA076': 'float64','FINA077': 'float64','FINA078': 'float64','FINA079': 'float64','FINA080': 'float64','FINA081': 'float64','FINA082': 'float64','FINA083': 'float64','FINA084': 'float64','FINA085': 'float64','FINA086': 'float64','FINA087': 'float64','FINA088': 'float64','FINA089': 'float64','FINA090': 'float64','FINA091': 'float64','FINA092': 'float64','FINA093': 'float64','FINA094': 'float64','FINA095': 'float64','FINA096': 'float64','FINA097': 'float64','FINA098': 'float64','FINA099': 'float64','UPLOAD': 'str',\""
      ]
     },
     "execution_count": 35,
     "metadata": {},
     "output_type": "execute_result"
    }
   ],
   "source": [
    "checker_new"
   ]
  },
  {
   "cell_type": "code",
   "execution_count": null,
   "metadata": {},
   "outputs": [],
   "source": []
  },
  {
   "cell_type": "markdown",
   "metadata": {},
   "source": [
    "#### Encoding Testing"
   ]
  },
  {
   "cell_type": "code",
   "execution_count": 9,
   "metadata": {},
   "outputs": [],
   "source": [
    "import csv\n",
    "df_entry_file=pd.read_csv('testing.txt',encoding='iso-8859-1',sep='|',quoting=csv.QUOTE_NONE)\n"
   ]
  },
  {
   "cell_type": "code",
   "execution_count": 10,
   "metadata": {},
   "outputs": [
    {
     "data": {
      "text/html": [
       "<div>\n",
       "<style scoped>\n",
       "    .dataframe tbody tr th:only-of-type {\n",
       "        vertical-align: middle;\n",
       "    }\n",
       "\n",
       "    .dataframe tbody tr th {\n",
       "        vertical-align: top;\n",
       "    }\n",
       "\n",
       "    .dataframe thead th {\n",
       "        text-align: right;\n",
       "    }\n",
       "</style>\n",
       "<table border=\"1\" class=\"dataframe\">\n",
       "  <thead>\n",
       "    <tr style=\"text-align: right;\">\n",
       "      <th></th>\n",
       "      <th>ï»¿hello</th>\n",
       "      <th>hi</th>\n",
       "      <th>me</th>\n",
       "    </tr>\n",
       "  </thead>\n",
       "  <tbody>\n",
       "    <tr>\n",
       "      <th>0</th>\n",
       "      <td>1</td>\n",
       "      <td>leo</td>\n",
       "      <td>leo</td>\n",
       "    </tr>\n",
       "    <tr>\n",
       "      <th>1</th>\n",
       "      <td>2</td>\n",
       "      <td>\"me</td>\n",
       "      <td>hi\"</td>\n",
       "    </tr>\n",
       "  </tbody>\n",
       "</table>\n",
       "</div>"
      ],
      "text/plain": [
       "   ï»¿hello   hi   me\n",
       "0         1  leo  leo\n",
       "1         2  \"me  hi\""
      ]
     },
     "execution_count": 10,
     "metadata": {},
     "output_type": "execute_result"
    }
   ],
   "source": [
    "df_entry_file"
   ]
  },
  {
   "cell_type": "code",
   "execution_count": 11,
   "metadata": {},
   "outputs": [],
   "source": [
    " pyreadstat.write_sav(df_entry_file,'testing.sav',compress=False)"
   ]
  },
  {
   "cell_type": "code",
   "execution_count": null,
   "metadata": {},
   "outputs": [],
   "source": []
  }
 ],
 "metadata": {
  "kernelspec": {
   "display_name": "Python 3",
   "language": "python",
   "name": "python3"
  },
  "language_info": {
   "codemirror_mode": {
    "name": "ipython",
    "version": 3
   },
   "file_extension": ".py",
   "mimetype": "text/x-python",
   "name": "python",
   "nbconvert_exporter": "python",
   "pygments_lexer": "ipython3",
   "version": "3.8.5"
  }
 },
 "nbformat": 4,
 "nbformat_minor": 4
}
